{
 "cells": [
  {
   "cell_type": "code",
   "execution_count": 1,
   "id": "e3ebaa3a",
   "metadata": {},
   "outputs": [
    {
     "data": {
      "text/html": [
       "<style type='text/css'>\n",
       ".datatable table.frame { margin-bottom: 0; }\n",
       ".datatable table.frame thead { border-bottom: none; }\n",
       ".datatable table.frame tr.coltypes td {  color: #FFFFFF;  line-height: 6px;  padding: 0 0.5em;}\n",
       ".datatable .bool    { background: #DDDD99; }\n",
       ".datatable .object  { background: #565656; }\n",
       ".datatable .int     { background: #5D9E5D; }\n",
       ".datatable .float   { background: #4040CC; }\n",
       ".datatable .str     { background: #CC4040; }\n",
       ".datatable .row_index {  background: var(--jp-border-color3);  border-right: 1px solid var(--jp-border-color0);  color: var(--jp-ui-font-color3);  font-size: 9px;}\n",
       ".datatable .frame tr.coltypes .row_index {  background: var(--jp-border-color0);}\n",
       ".datatable th:nth-child(2) { padding-left: 12px; }\n",
       ".datatable .hellipsis {  color: var(--jp-cell-editor-border-color);}\n",
       ".datatable .vellipsis {  background: var(--jp-layout-color0);  color: var(--jp-cell-editor-border-color);}\n",
       ".datatable .na {  color: var(--jp-cell-editor-border-color);  font-size: 80%;}\n",
       ".datatable .footer { font-size: 9px; }\n",
       ".datatable .frame_dimensions {  background: var(--jp-border-color3);  border-top: 1px solid var(--jp-border-color0);  color: var(--jp-ui-font-color3);  display: inline-block;  opacity: 0.6;  padding: 1px 10px 1px 5px;}\n",
       "</style>\n"
      ],
      "text/plain": [
       "<IPython.core.display.HTML object>"
      ]
     },
     "metadata": {},
     "output_type": "display_data"
    }
   ],
   "source": [
    "import pandas as pd\n",
    "import numpy as np\n",
    "import datetime as dt\n",
    "import math\n",
    "import glob\n",
    "import os\n",
    "import random\n",
    "import re\n",
    "import datatable as dt\n",
    "from scipy.interpolate import make_interp_spline, BSpline\n",
    "import seaborn as sns\n",
    "\n",
    "import matplotlib.pyplot as plt\n",
    "import warnings\n",
    "warnings.filterwarnings(\"ignore\")"
   ]
  },
  {
   "cell_type": "code",
   "execution_count": 2,
   "id": "dfd55c8f",
   "metadata": {},
   "outputs": [],
   "source": [
    "def seed_everything(seed=0):\n",
    "    random.seed(seed)\n",
    "    os.environ['PYTHONHASHSEED'] = str(seed)\n",
    "    np.random.seed(seed)\n",
    "    \n",
    "SEED = 42\n",
    "seed_everything(SEED)"
   ]
  },
  {
   "cell_type": "code",
   "execution_count": 3,
   "id": "e49e68bd",
   "metadata": {},
   "outputs": [
    {
     "name": "stdout",
     "output_type": "stream",
     "text": [
      "['/opt/ml/code/input/sample_submission.csv', '/opt/ml/code/input/train.csv']\n"
     ]
    }
   ],
   "source": [
    "root = '/opt/ml/code/input/'\n",
    "dataset_path = glob.glob(root + \"*.csv\")\n",
    "print(dataset_path)"
   ]
  },
  {
   "cell_type": "code",
   "execution_count": 4,
   "id": "7cc579c1",
   "metadata": {},
   "outputs": [],
   "source": [
    "sample_submission = pd.read_csv(dataset_path[np.where(pd.Series(dataset_path).str.find(\"submission\") != -1)[0][0]])\n",
    "train = pd.read_csv(dataset_path[np.where(pd.Series(dataset_path).str.find(\"train\") != -1)[0][0]])"
   ]
  },
  {
   "cell_type": "code",
   "execution_count": 8,
   "id": "4547df65",
   "metadata": {},
   "outputs": [
    {
     "name": "stdout",
     "output_type": "stream",
     "text": [
      "<bound method DataFrame.info of        order_id product_id                          description  quantity  \\\n",
      "0        489434      85048  15CM CHRISTMAS GLASS BALL 20 LIGHTS        12   \n",
      "1        489434     79323P                   PINK CHERRY LIGHTS        12   \n",
      "2        489434     79323W                  WHITE CHERRY LIGHTS        12   \n",
      "3        489434      22041         RECORD FRAME 7\" SINGLE SIZE         48   \n",
      "4        489434      21232       STRAWBERRY CERAMIC TRINKET BOX        24   \n",
      "...         ...        ...                                  ...       ...   \n",
      "780497  C579886      22197                       POPCORN HOLDER        -1   \n",
      "780498  C579886      23146       TRIPLE HOOK ANTIQUE IVORY ROSE        -1   \n",
      "780499  C579887      84946         ANTIQUE SILVER T-LIGHT GLASS        -1   \n",
      "780500  C579887      85048  15CM CHRISTMAS GLASS BALL 20 LIGHTS        -1   \n",
      "780501  C579887      23490     T-LIGHT HOLDER HANGING LOVE BIRD        -3   \n",
      "\n",
      "              order_date    price  customer_id         country     total  \n",
      "0         2009.12.1 7:45  11.4675        13085  United Kingdom  137.6100  \n",
      "1         2009.12.1 7:45  11.1375        13085  United Kingdom  133.6500  \n",
      "2         2009.12.1 7:45  11.1375        13085  United Kingdom  133.6500  \n",
      "3         2009.12.1 7:45   3.4650        13085  United Kingdom  166.3200  \n",
      "4         2009.12.1 7:45   2.0625        13085  United Kingdom   49.5000  \n",
      "...                  ...      ...          ...             ...       ...  \n",
      "780497  2011.11.30 17:39   1.4025        15676  United Kingdom   -1.4025  \n",
      "780498  2011.11.30 17:39   5.4285        15676  United Kingdom   -5.4285  \n",
      "780499  2011.11.30 17:42   2.0625        16717  United Kingdom   -2.0625  \n",
      "780500  2011.11.30 17:42  13.1175        16717  United Kingdom  -13.1175  \n",
      "780501  2011.11.30 17:42   6.1875        16717  United Kingdom  -18.5625  \n",
      "\n",
      "[780502 rows x 9 columns]>\n",
      "2011.9.9 9:52\n"
     ]
    }
   ],
   "source": [
    "print(train.info)\n",
    "print(train.order_date.max())"
   ]
  },
  {
   "cell_type": "code",
   "execution_count": 35,
   "id": "eaede6e3",
   "metadata": {},
   "outputs": [
    {
     "name": "stdout",
     "output_type": "stream",
     "text": [
      "<class 'numpy.ndarray'>\n",
      "[13085 13078 15362 ... 12966 15060 17911]\n"
     ]
    },
    {
     "ename": "AttributeError",
     "evalue": "'Series' object has no attribute 'isdigit'",
     "output_type": "error",
     "traceback": [
      "\u001b[0;31m---------------------------------------------------------------------------\u001b[0m",
      "\u001b[0;31mAttributeError\u001b[0m                            Traceback (most recent call last)",
      "\u001b[0;32m<ipython-input-35-5fda00e0e3b3>\u001b[0m in \u001b[0;36m<module>\u001b[0;34m\u001b[0m\n\u001b[1;32m      3\u001b[0m \u001b[0mprint\u001b[0m\u001b[0;34m(\u001b[0m\u001b[0mt_id\u001b[0m\u001b[0;34m)\u001b[0m\u001b[0;34m\u001b[0m\u001b[0;34m\u001b[0m\u001b[0m\n\u001b[1;32m      4\u001b[0m \u001b[0mdf\u001b[0m \u001b[0;34m=\u001b[0m \u001b[0mpd\u001b[0m\u001b[0;34m.\u001b[0m\u001b[0mSeries\u001b[0m\u001b[0;34m(\u001b[0m\u001b[0mt_id\u001b[0m\u001b[0;34m)\u001b[0m\u001b[0;34m\u001b[0m\u001b[0;34m\u001b[0m\u001b[0m\n\u001b[0;32m----> 5\u001b[0;31m \u001b[0mprint\u001b[0m\u001b[0;34m(\u001b[0m\u001b[0mdf\u001b[0m\u001b[0;34m.\u001b[0m\u001b[0misdigit\u001b[0m\u001b[0;34m(\u001b[0m\u001b[0;34m)\u001b[0m\u001b[0;34m)\u001b[0m\u001b[0;34m\u001b[0m\u001b[0;34m\u001b[0m\u001b[0m\n\u001b[0m",
      "\u001b[0;32m/opt/conda/lib/python3.7/site-packages/pandas/core/generic.py\u001b[0m in \u001b[0;36m__getattr__\u001b[0;34m(self, name)\u001b[0m\n\u001b[1;32m   5139\u001b[0m             \u001b[0;32mif\u001b[0m \u001b[0mself\u001b[0m\u001b[0;34m.\u001b[0m\u001b[0m_info_axis\u001b[0m\u001b[0;34m.\u001b[0m\u001b[0m_can_hold_identifiers_and_holds_name\u001b[0m\u001b[0;34m(\u001b[0m\u001b[0mname\u001b[0m\u001b[0;34m)\u001b[0m\u001b[0;34m:\u001b[0m\u001b[0;34m\u001b[0m\u001b[0;34m\u001b[0m\u001b[0m\n\u001b[1;32m   5140\u001b[0m                 \u001b[0;32mreturn\u001b[0m \u001b[0mself\u001b[0m\u001b[0;34m[\u001b[0m\u001b[0mname\u001b[0m\u001b[0;34m]\u001b[0m\u001b[0;34m\u001b[0m\u001b[0;34m\u001b[0m\u001b[0m\n\u001b[0;32m-> 5141\u001b[0;31m             \u001b[0;32mreturn\u001b[0m \u001b[0mobject\u001b[0m\u001b[0;34m.\u001b[0m\u001b[0m__getattribute__\u001b[0m\u001b[0;34m(\u001b[0m\u001b[0mself\u001b[0m\u001b[0;34m,\u001b[0m \u001b[0mname\u001b[0m\u001b[0;34m)\u001b[0m\u001b[0;34m\u001b[0m\u001b[0;34m\u001b[0m\u001b[0m\n\u001b[0m\u001b[1;32m   5142\u001b[0m \u001b[0;34m\u001b[0m\u001b[0m\n\u001b[1;32m   5143\u001b[0m     \u001b[0;32mdef\u001b[0m \u001b[0m__setattr__\u001b[0m\u001b[0;34m(\u001b[0m\u001b[0mself\u001b[0m\u001b[0;34m,\u001b[0m \u001b[0mname\u001b[0m\u001b[0;34m:\u001b[0m \u001b[0mstr\u001b[0m\u001b[0;34m,\u001b[0m \u001b[0mvalue\u001b[0m\u001b[0;34m)\u001b[0m \u001b[0;34m->\u001b[0m \u001b[0;32mNone\u001b[0m\u001b[0;34m:\u001b[0m\u001b[0;34m\u001b[0m\u001b[0;34m\u001b[0m\u001b[0m\n",
      "\u001b[0;31mAttributeError\u001b[0m: 'Series' object has no attribute 'isdigit'"
     ]
    }
   ],
   "source": [
    "t_id = train.customer_id.unique()\n",
    "print(type(t_id))\n",
    "print(t_id)\n",
    "df = pd.Series(t_id)\n",
    "print(df.isdigit())"
   ]
  },
  {
   "cell_type": "code",
   "execution_count": null,
   "id": "9bd89cbe",
   "metadata": {},
   "outputs": [],
   "source": []
  }
 ],
 "metadata": {
  "kernelspec": {
   "display_name": "Python 3",
   "language": "python",
   "name": "python3"
  },
  "language_info": {
   "codemirror_mode": {
    "name": "ipython",
    "version": 3
   },
   "file_extension": ".py",
   "mimetype": "text/x-python",
   "name": "python",
   "nbconvert_exporter": "python",
   "pygments_lexer": "ipython3",
   "version": "3.7.7"
  }
 },
 "nbformat": 4,
 "nbformat_minor": 5
}
