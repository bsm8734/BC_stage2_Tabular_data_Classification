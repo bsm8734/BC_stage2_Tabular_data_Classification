{
 "cells": [
  {
   "cell_type": "markdown",
   "id": "0279ecf9",
   "metadata": {},
   "source": [
    "# 5강 정형데이터 분류 베이스라인 모델 2\n",
    "\n",
    "- 첫번째 베이스라인 모델은 머신러닝 모델을 사용하지 않고 이전 월 고객 구매액을 계산한 후에 이를 예측값으로 사용해서 베이스라인 모델 구현했지만, 두 번째 베이스라인 모델은 이번 강의에서 배운 LightGBM 모델을 사용해서 베이스라인 모델 구현\n",
    "- 첫번째 베이스라인 모델에서 이전 월 고객 구매액만을 피처로 사용하는 것과 달리 두 번째 베이스라인 모델은 2009년 12월부터 예측하기를 원하는 월의 이전 월 전체 데이터를 사용\n",
    "- 우리는 고객의 총 구매액이 300을 넘을지 말지를 예측하는 것인데 주어진 데이터는 개별 거래 데이터이기 때문에 데이터를 고객 기준으로 group by하고 count, sum, mean 등의 집계함수를 사용해서 피처 생성(피처에 대한 상세한 설명은 6강에서 진행)\n",
    "- 2011년 12월 데이터가 없기 때문에 2011년 10월을 train 데이터, 2011년 11월을 validation 데이터로 해서 LightGBM 베이스라인 모델 validation 성능 측정"
   ]
  },
  {
   "cell_type": "markdown",
   "id": "e61a8881",
   "metadata": {},
   "source": [
    "## Function 정의\n",
    "\n",
    "- seed_everything() : seed 고정 함수\n",
    "- generate_label() : label 생성 함수\n",
    "- print_score() : 평가지표 출력 함수\n",
    "- feature_preprocessing() : 데이터 전처리 함수(label encoding, 결측치 처리)\n",
    "- feature_engineering1() : 피처 엔지니어링 함수\n",
    "- make_lgb_prediction() : LightGBM train/predict 함수\n",
    "- plot_feature_importances() : LightGBM 피처 중요도 플롯 함수"
   ]
  },
  {
   "cell_type": "markdown",
   "id": "659cdde1",
   "metadata": {},
   "source": [
    "## Library Import"
   ]
  },
  {
   "cell_type": "code",
   "execution_count": 65,
   "id": "7ef57a8f",
   "metadata": {},
   "outputs": [],
   "source": [
    "# Suppress warnings \n",
    "import warnings\n",
    "warnings.filterwarnings('ignore')\n",
    "\n",
    "import os, sys, gc, warnings, random\n",
    "\n",
    "import datetime\n",
    "import dateutil.relativedelta\n",
    "\n",
    "# Data manipulation\n",
    "import pandas as pd \n",
    "import numpy as np\n",
    "\n",
    "# Visualization\n",
    "import matplotlib.pyplot as plt\n",
    "import seaborn as sns\n",
    "\n",
    "# Machine learning\n",
    "from sklearn.pipeline import Pipeline\n",
    "from sklearn.preprocessing import MinMaxScaler, LabelEncoder\n",
    "from sklearn.impute import SimpleImputer\n",
    "from sklearn.metrics import precision_score, recall_score, f1_score, roc_auc_score, precision_recall_curve, roc_curve\n",
    "from sklearn.model_selection import train_test_split, cross_val_score, KFold, StratifiedKFold, GroupKFold\n",
    "from sklearn.ensemble import RandomForestClassifier\n",
    "\n",
    "import lightgbm as lgb\n",
    "\n",
    "from tqdm.notebook import trange, tqdm\n",
    "\n",
    "from IPython.display import display\n",
    "\n",
    "%matplotlib inline\n",
    "\n",
    "pd.options.display.max_rows = 10000\n",
    "pd.options.display.max_columns = 1000\n",
    "pd.options.display.max_colwidth = 1000"
   ]
  },
  {
   "cell_type": "markdown",
   "id": "a0db4fa2",
   "metadata": {},
   "source": [
    "## Fix Seed 함수 정의"
   ]
  },
  {
   "cell_type": "code",
   "execution_count": 66,
   "id": "8a502889",
   "metadata": {},
   "outputs": [],
   "source": [
    "def seed_everything(seed=0):\n",
    "    random.seed(seed)\n",
    "    os.environ['PYTHONHASHSEED'] = str(seed)\n",
    "    np.random.seed(seed)\n",
    "    \n",
    "SEED = 42\n",
    "seed_everything(SEED)"
   ]
  },
  {
   "cell_type": "markdown",
   "id": "c70cf8e3",
   "metadata": {},
   "source": [
    "## 레이블 생성 함수 정의\n",
    "\n",
    "- 레이블 생성 함수는 연월을 인자로 받아서 고객 아이디별로 총 구매액이 인자로 받는 구매액 임계값을 넘는지 여부를 바이너리 레이블로 생성하는 함수"
   ]
  },
  {
   "cell_type": "code",
   "execution_count": 67,
   "id": "6044e3b3",
   "metadata": {},
   "outputs": [],
   "source": [
    "TOTAL_THRES = 300\n",
    "\n",
    "'''\n",
    "    입력인자로 받는 year_month에 대해 고객 ID별로 총 구매액이\n",
    "    구매액 임계값을 넘는지 여부의 binary label을 생성하는 함수\n",
    "'''\n",
    "def generate_label(df, year_month, total_thres=TOTAL_THRES, print_log=False):\n",
    "    df = df.copy()\n",
    "    \n",
    "    # year_month에 해당하는 label 데이터 생성\n",
    "    df['year_month'] = df['order_date'].dt.strftime('%Y-%m')\n",
    "    df.reset_index(drop=True, inplace=True)\n",
    "\n",
    "    # year_month 이전 월의 고객 ID 추출\n",
    "    cust = df[df['year_month']<year_month]['customer_id'].unique()\n",
    "    # year_month에 해당하는 데이터 선택\n",
    "    df = df[df['year_month']==year_month]\n",
    "    \n",
    "    # label 데이터프레임 생성\n",
    "    label = pd.DataFrame({'customer_id':cust})\n",
    "    label['year_month'] = year_month\n",
    "    \n",
    "    # year_month에 해당하는 고객 ID의 구매액의 합 계산\n",
    "    grped = df.groupby(['customer_id','year_month'], as_index=False)[['total']].sum()\n",
    "    \n",
    "    # label 데이터프레임과 merge하고 구매액 임계값을 넘었는지 여부로 label 생성\n",
    "    label = label.merge(grped, on=['customer_id','year_month'], how='left')\n",
    "    label['total'].fillna(0.0, inplace=True)\n",
    "    label['label'] = (label['total'] > total_thres).astype(int)\n",
    "\n",
    "    # 고객 ID로 정렬\n",
    "    label = label.sort_values('customer_id').reset_index(drop=True)\n",
    "    if print_log: print(f'{year_month} - final label shape: {label.shape}')\n",
    "    \n",
    "    return label"
   ]
  },
  {
   "cell_type": "markdown",
   "id": "e4334643",
   "metadata": {},
   "source": [
    "## 평가지표 출력 함수 정의"
   ]
  },
  {
   "cell_type": "code",
   "execution_count": 68,
   "id": "3cc5d0b7",
   "metadata": {},
   "outputs": [],
   "source": [
    "def print_score(label, pred, prob_thres=0.5):\n",
    "    print('Precision: {:.5f}'.format(precision_score(label, pred>prob_thres)))\n",
    "    print('Recall: {:.5f}'.format(recall_score(label, pred>prob_thres)))\n",
    "    print('F1 Score: {:.5f}'.format(f1_score(label, pred>prob_thres)))\n",
    "    print('ROC AUC Score: {:.5f}'.format(roc_auc_score(label, pred)))"
   ]
  },
  {
   "cell_type": "markdown",
   "id": "8b3f47eb",
   "metadata": {},
   "source": [
    "## 데이터 전처리 함수 정의\n",
    "- 범주형 변수 레이블 인코딩\n",
    "- 결측치 중위값으로 채움"
   ]
  },
  {
   "cell_type": "code",
   "execution_count": 69,
   "id": "1dd35103",
   "metadata": {},
   "outputs": [],
   "source": [
    "def feature_preprocessing(train, test, features, do_imputing=True):\n",
    "    x_tr = train.copy()\n",
    "    x_te = test.copy()\n",
    "    \n",
    "    # 범주형 피처 이름을 저장할 변수\n",
    "    cate_cols = []\n",
    "\n",
    "    # 레이블 인코딩\n",
    "    for f in features:\n",
    "        if x_tr[f].dtype.name == 'object': # 데이터 타입이 object(str)이면 레이블 인코딩\n",
    "            cate_cols.append(f)\n",
    "            le = LabelEncoder()\n",
    "            # train + test 데이터를 합쳐서 레이블 인코딩 함수에 fit\n",
    "            le.fit(list(x_tr[f].values) + list(x_te[f].values))\n",
    "            \n",
    "            # train 데이터 레이블 인코딩 변환 수행\n",
    "            x_tr[f] = le.transform(list(x_tr[f].values))\n",
    "            \n",
    "            # test 데이터 레이블 인코딩 변환 수행\n",
    "            x_te[f] = le.transform(list(x_te[f].values))\n",
    "\n",
    "    print('categorical feature:', cate_cols)\n",
    "\n",
    "    if do_imputing:\n",
    "        # 중위값으로 결측치 채우기\n",
    "        imputer = SimpleImputer(strategy='median')\n",
    "\n",
    "        x_tr[features] = imputer.fit_transform(x_tr[features])\n",
    "        x_te[features] = imputer.transform(x_te[features])\n",
    "    \n",
    "    return x_tr, x_te"
   ]
  },
  {
   "cell_type": "markdown",
   "id": "7873ba1b",
   "metadata": {},
   "source": [
    "## 피처 엔지니어링 함수 정의\n",
    "- Pandas groupby aggregation 함수를 사용한 피처 엔지니어링"
   ]
  },
  {
   "cell_type": "code",
   "execution_count": 70,
   "id": "c28f8e36",
   "metadata": {},
   "outputs": [],
   "source": [
    "def feature_engineering1(df, year_month):\n",
    "    df = df.copy()\n",
    "    \n",
    "    # year_month 이전 월 계산\n",
    "    d = datetime.datetime.strptime(year_month, \"%Y-%m\")\n",
    "    prev_ym = d - dateutil.relativedelta.relativedelta(months=1)\n",
    "    prev_ym = prev_ym.strftime('%Y-%m')\n",
    "    \n",
    "    # train, test 데이터 선택\n",
    "    train = df[df['order_date'] < prev_ym]\n",
    "    test = df[df['order_date'] < year_month]\n",
    "    \n",
    "    # train, test 레이블 데이터 생성\n",
    "    train_label = generate_label(df, prev_ym)[['customer_id','year_month','label']]\n",
    "    test_label = generate_label(df, year_month)[['customer_id','year_month','label']]\n",
    "    \n",
    "    # group by aggregation 함수 선언\n",
    "    agg_func = ['mean','max','min','sum','count','std','skew']\n",
    "    all_train_data = pd.DataFrame()\n",
    "    \n",
    "    for i, tr_ym in enumerate(train_label['year_month'].unique()):\n",
    "        # group by aggretation 함수로 train 데이터 피처 생성\n",
    "        train_agg = train.loc[train['order_date'] < tr_ym].groupby(['customer_id']).agg(agg_func)\n",
    "\n",
    "        # 멀티 레벨 컬럼을 사용하기 쉽게 1 레벨 컬럼명으로 변경\n",
    "        new_cols = []\n",
    "        for col in train_agg.columns.levels[0]:\n",
    "            for stat in train_agg.columns.levels[1]:\n",
    "                new_cols.append(f'{col}-{stat}')\n",
    "\n",
    "        train_agg.columns = new_cols\n",
    "        train_agg.reset_index(inplace = True)\n",
    "        \n",
    "        train_agg['year_month'] = tr_ym\n",
    "        \n",
    "        all_train_data = all_train_data.append(train_agg)\n",
    "    \n",
    "    all_train_data = train_label.merge(all_train_data, on=['customer_id', 'year_month'], how='left')\n",
    "    features = all_train_data.drop(columns=['customer_id', 'label', 'year_month']).columns\n",
    "    \n",
    "    # group by aggretation 함수로 test 데이터 피처 생성\n",
    "    test_agg = test.groupby(['customer_id']).agg(agg_func)\n",
    "    test_agg.columns = new_cols\n",
    "    \n",
    "    test_data = test_label.merge(test_agg, on=['customer_id'], how='left')\n",
    "\n",
    "    # train, test 데이터 전처리\n",
    "    x_tr, x_te = feature_preprocessing(all_train_data, test_data, features)\n",
    "    \n",
    "    print('x_tr.shape', x_tr.shape, ', x_te.shape', x_te.shape)\n",
    "    \n",
    "    return x_tr, x_te, all_train_data['label'], features"
   ]
  },
  {
   "cell_type": "markdown",
   "id": "051d9e18",
   "metadata": {},
   "source": [
    "## LightGBM train/predict 함수 정의"
   ]
  },
  {
   "cell_type": "code",
   "execution_count": 71,
   "id": "bc8f7e4d",
   "metadata": {},
   "outputs": [],
   "source": [
    "def make_lgb_prediction(train, y, test, features, categorical_features='auto', model_params=None):\n",
    "    x_train = train[features]\n",
    "    x_test = test[features]\n",
    "    \n",
    "    print(x_train.shape, x_test.shape)\n",
    "\n",
    "    # 피처 중요도를 저장할 데이터 프레임 선언\n",
    "    fi = pd.DataFrame()\n",
    "    fi['feature'] = features\n",
    "    \n",
    "    # LightGBM 데이터셋 선언\n",
    "    dtrain = lgb.Dataset(x_train, label=y)\n",
    "\n",
    "    # LightGBM 모델 훈련\n",
    "    clf = lgb.train(\n",
    "        model_params,\n",
    "        dtrain,\n",
    "        categorical_feature=categorical_features,\n",
    "        verbose_eval=200\n",
    "    )\n",
    "    \n",
    "    # 테스트 데이터 예측\n",
    "    test_preds = clf.predict(x_test)\n",
    "\n",
    "    # 피처 중요도 저장\n",
    "    fi['importance'] = clf.feature_importance()\n",
    "    \n",
    "    return test_preds, fi"
   ]
  },
  {
   "cell_type": "markdown",
   "id": "12aaf65f",
   "metadata": {},
   "source": [
    "## LightGBM 피처 중요도 플롯 함수 정의"
   ]
  },
  {
   "cell_type": "code",
   "execution_count": 72,
   "id": "0b7f29df",
   "metadata": {},
   "outputs": [],
   "source": [
    "def plot_feature_importances(df, n=20, color='blue', figsize=(12,8)):\n",
    "    # 피처 중요도 순으로 내림차순 정렬\n",
    "    df = df.sort_values('importance', ascending = False).reset_index(drop = True)\n",
    "    \n",
    "    # 피처 중요도 정규화 및 누적 중요도 계산\n",
    "    df['importance_normalized'] = df['importance'] / df['importance'].sum()\n",
    "    df['cumulative_importance'] = np.cumsum(df['importance_normalized'])\n",
    "    \n",
    "    plt.rcParams['font.size'] = 12\n",
    "    plt.style.use('fivethirtyeight')\n",
    "    # 피처 중요도 순으로 n개까지 바플롯으로 그리기\n",
    "    df.loc[:n, :].plot.barh(y='importance_normalized', \n",
    "                            x='feature', color=color, \n",
    "                            edgecolor='k', figsize=figsize,\n",
    "                            legend=False)\n",
    "\n",
    "    plt.xlabel('Normalized Importance', size=18); plt.ylabel(''); \n",
    "    plt.title(f'Top {n} Most Important Features', size=18)\n",
    "    plt.gca().invert_yaxis()\n",
    "    \n",
    "    return df"
   ]
  },
  {
   "cell_type": "markdown",
   "id": "bbac6537",
   "metadata": {},
   "source": [
    "## Train 데이터 읽기\n",
    "- 9개의 feature를 가진 780502개의 train data"
   ]
  },
  {
   "cell_type": "code",
   "execution_count": 73,
   "id": "c6841da0",
   "metadata": {},
   "outputs": [
    {
     "name": "stdout",
     "output_type": "stream",
     "text": [
      "(780502, 9)\n"
     ]
    },
    {
     "data": {
      "text/html": [
       "<div>\n",
       "<style scoped>\n",
       "    .dataframe tbody tr th:only-of-type {\n",
       "        vertical-align: middle;\n",
       "    }\n",
       "\n",
       "    .dataframe tbody tr th {\n",
       "        vertical-align: top;\n",
       "    }\n",
       "\n",
       "    .dataframe thead th {\n",
       "        text-align: right;\n",
       "    }\n",
       "</style>\n",
       "<table border=\"1\" class=\"dataframe\">\n",
       "  <thead>\n",
       "    <tr style=\"text-align: right;\">\n",
       "      <th></th>\n",
       "      <th>order_id</th>\n",
       "      <th>product_id</th>\n",
       "      <th>description</th>\n",
       "      <th>quantity</th>\n",
       "      <th>order_date</th>\n",
       "      <th>price</th>\n",
       "      <th>customer_id</th>\n",
       "      <th>country</th>\n",
       "      <th>total</th>\n",
       "    </tr>\n",
       "  </thead>\n",
       "  <tbody>\n",
       "    <tr>\n",
       "      <th>0</th>\n",
       "      <td>489434</td>\n",
       "      <td>85048</td>\n",
       "      <td>15CM CHRISTMAS GLASS BALL 20 LIGHTS</td>\n",
       "      <td>12</td>\n",
       "      <td>2009-12-01 07:45:00</td>\n",
       "      <td>11.4675</td>\n",
       "      <td>13085</td>\n",
       "      <td>United Kingdom</td>\n",
       "      <td>137.61</td>\n",
       "    </tr>\n",
       "    <tr>\n",
       "      <th>1</th>\n",
       "      <td>489434</td>\n",
       "      <td>79323P</td>\n",
       "      <td>PINK CHERRY LIGHTS</td>\n",
       "      <td>12</td>\n",
       "      <td>2009-12-01 07:45:00</td>\n",
       "      <td>11.1375</td>\n",
       "      <td>13085</td>\n",
       "      <td>United Kingdom</td>\n",
       "      <td>133.65</td>\n",
       "    </tr>\n",
       "    <tr>\n",
       "      <th>2</th>\n",
       "      <td>489434</td>\n",
       "      <td>79323W</td>\n",
       "      <td>WHITE CHERRY LIGHTS</td>\n",
       "      <td>12</td>\n",
       "      <td>2009-12-01 07:45:00</td>\n",
       "      <td>11.1375</td>\n",
       "      <td>13085</td>\n",
       "      <td>United Kingdom</td>\n",
       "      <td>133.65</td>\n",
       "    </tr>\n",
       "    <tr>\n",
       "      <th>3</th>\n",
       "      <td>489434</td>\n",
       "      <td>22041</td>\n",
       "      <td>RECORD FRAME 7\" SINGLE SIZE</td>\n",
       "      <td>48</td>\n",
       "      <td>2009-12-01 07:45:00</td>\n",
       "      <td>3.4650</td>\n",
       "      <td>13085</td>\n",
       "      <td>United Kingdom</td>\n",
       "      <td>166.32</td>\n",
       "    </tr>\n",
       "    <tr>\n",
       "      <th>4</th>\n",
       "      <td>489434</td>\n",
       "      <td>21232</td>\n",
       "      <td>STRAWBERRY CERAMIC TRINKET BOX</td>\n",
       "      <td>24</td>\n",
       "      <td>2009-12-01 07:45:00</td>\n",
       "      <td>2.0625</td>\n",
       "      <td>13085</td>\n",
       "      <td>United Kingdom</td>\n",
       "      <td>49.50</td>\n",
       "    </tr>\n",
       "  </tbody>\n",
       "</table>\n",
       "</div>"
      ],
      "text/plain": [
       "  order_id product_id                          description  quantity  \\\n",
       "0   489434      85048  15CM CHRISTMAS GLASS BALL 20 LIGHTS        12   \n",
       "1   489434     79323P                   PINK CHERRY LIGHTS        12   \n",
       "2   489434     79323W                  WHITE CHERRY LIGHTS        12   \n",
       "3   489434      22041         RECORD FRAME 7\" SINGLE SIZE         48   \n",
       "4   489434      21232       STRAWBERRY CERAMIC TRINKET BOX        24   \n",
       "\n",
       "           order_date    price  customer_id         country   total  \n",
       "0 2009-12-01 07:45:00  11.4675        13085  United Kingdom  137.61  \n",
       "1 2009-12-01 07:45:00  11.1375        13085  United Kingdom  133.65  \n",
       "2 2009-12-01 07:45:00  11.1375        13085  United Kingdom  133.65  \n",
       "3 2009-12-01 07:45:00   3.4650        13085  United Kingdom  166.32  \n",
       "4 2009-12-01 07:45:00   2.0625        13085  United Kingdom   49.50  "
      ]
     },
     "execution_count": 73,
     "metadata": {},
     "output_type": "execute_result"
    }
   ],
   "source": [
    "data = pd.read_csv(\"../input/train.csv\", parse_dates=[\"order_date\"])\n",
    "print(data.shape) # data shape 확인\n",
    "data.head()"
   ]
  },
  {
   "cell_type": "markdown",
   "id": "2cd069a3",
   "metadata": {},
   "source": [
    "## Pandas info() 함수로 데이터 타입 및 null 체크"
   ]
  },
  {
   "cell_type": "code",
   "execution_count": 74,
   "id": "7240868f",
   "metadata": {},
   "outputs": [
    {
     "name": "stdout",
     "output_type": "stream",
     "text": [
      "<class 'pandas.core.frame.DataFrame'>\n",
      "RangeIndex: 780502 entries, 0 to 780501\n",
      "Data columns (total 9 columns):\n",
      " #   Column       Non-Null Count   Dtype         \n",
      "---  ------       --------------   -----         \n",
      " 0   order_id     780502 non-null  object        \n",
      " 1   product_id   780502 non-null  object        \n",
      " 2   description  780502 non-null  object        \n",
      " 3   quantity     780502 non-null  int64         \n",
      " 4   order_date   780502 non-null  datetime64[ns]\n",
      " 5   price        780502 non-null  float64       \n",
      " 6   customer_id  780502 non-null  int64         \n",
      " 7   country      780502 non-null  object        \n",
      " 8   total        780502 non-null  float64       \n",
      "dtypes: datetime64[ns](1), float64(2), int64(2), object(4)\n",
      "memory usage: 53.6+ MB\n"
     ]
    }
   ],
   "source": [
    "data.info()"
   ]
  },
  {
   "cell_type": "markdown",
   "id": "819b339a",
   "metadata": {},
   "source": [
    "## Pandas isna(), sum() 함수로 null 데이터 개수 체크"
   ]
  },
  {
   "cell_type": "code",
   "execution_count": 75,
   "id": "42cf4a4d",
   "metadata": {},
   "outputs": [
    {
     "data": {
      "text/plain": [
       "order_id       0\n",
       "product_id     0\n",
       "description    0\n",
       "quantity       0\n",
       "order_date     0\n",
       "price          0\n",
       "customer_id    0\n",
       "country        0\n",
       "total          0\n",
       "dtype: int64"
      ]
     },
     "execution_count": 75,
     "metadata": {},
     "output_type": "execute_result"
    }
   ],
   "source": [
    "data.isna().sum()"
   ]
  },
  {
   "cell_type": "markdown",
   "id": "9de57716",
   "metadata": {},
   "source": [
    "## Pandas describe() 함수에 include='all' 인자 설정으로 수치형, 범주형 데이터 기본 통계량 확인"
   ]
  },
  {
   "cell_type": "code",
   "execution_count": 76,
   "id": "5f394ffb",
   "metadata": {},
   "outputs": [
    {
     "data": {
      "text/html": [
       "<div>\n",
       "<style scoped>\n",
       "    .dataframe tbody tr th:only-of-type {\n",
       "        vertical-align: middle;\n",
       "    }\n",
       "\n",
       "    .dataframe tbody tr th {\n",
       "        vertical-align: top;\n",
       "    }\n",
       "\n",
       "    .dataframe thead th {\n",
       "        text-align: right;\n",
       "    }\n",
       "</style>\n",
       "<table border=\"1\" class=\"dataframe\">\n",
       "  <thead>\n",
       "    <tr style=\"text-align: right;\">\n",
       "      <th></th>\n",
       "      <th>order_id</th>\n",
       "      <th>product_id</th>\n",
       "      <th>description</th>\n",
       "      <th>quantity</th>\n",
       "      <th>order_date</th>\n",
       "      <th>price</th>\n",
       "      <th>customer_id</th>\n",
       "      <th>country</th>\n",
       "      <th>total</th>\n",
       "    </tr>\n",
       "  </thead>\n",
       "  <tbody>\n",
       "    <tr>\n",
       "      <th>count</th>\n",
       "      <td>780502</td>\n",
       "      <td>780502</td>\n",
       "      <td>780502</td>\n",
       "      <td>780502.000000</td>\n",
       "      <td>780502</td>\n",
       "      <td>780502.000000</td>\n",
       "      <td>780502.000000</td>\n",
       "      <td>780502</td>\n",
       "      <td>780502.000000</td>\n",
       "    </tr>\n",
       "    <tr>\n",
       "      <th>unique</th>\n",
       "      <td>43955</td>\n",
       "      <td>4645</td>\n",
       "      <td>5297</td>\n",
       "      <td>NaN</td>\n",
       "      <td>40615</td>\n",
       "      <td>NaN</td>\n",
       "      <td>NaN</td>\n",
       "      <td>41</td>\n",
       "      <td>NaN</td>\n",
       "    </tr>\n",
       "    <tr>\n",
       "      <th>top</th>\n",
       "      <td>576339</td>\n",
       "      <td>85123A</td>\n",
       "      <td>WHITE HANGING HEART T-LIGHT HOLDER</td>\n",
       "      <td>NaN</td>\n",
       "      <td>2011-11-14 15:27:00</td>\n",
       "      <td>NaN</td>\n",
       "      <td>NaN</td>\n",
       "      <td>United Kingdom</td>\n",
       "      <td>NaN</td>\n",
       "    </tr>\n",
       "    <tr>\n",
       "      <th>freq</th>\n",
       "      <td>542</td>\n",
       "      <td>5096</td>\n",
       "      <td>5096</td>\n",
       "      <td>NaN</td>\n",
       "      <td>543</td>\n",
       "      <td>NaN</td>\n",
       "      <td>NaN</td>\n",
       "      <td>700317</td>\n",
       "      <td>NaN</td>\n",
       "    </tr>\n",
       "    <tr>\n",
       "      <th>first</th>\n",
       "      <td>NaN</td>\n",
       "      <td>NaN</td>\n",
       "      <td>NaN</td>\n",
       "      <td>NaN</td>\n",
       "      <td>2009-12-01 07:45:00</td>\n",
       "      <td>NaN</td>\n",
       "      <td>NaN</td>\n",
       "      <td>NaN</td>\n",
       "      <td>NaN</td>\n",
       "    </tr>\n",
       "    <tr>\n",
       "      <th>last</th>\n",
       "      <td>NaN</td>\n",
       "      <td>NaN</td>\n",
       "      <td>NaN</td>\n",
       "      <td>NaN</td>\n",
       "      <td>2011-11-30 17:42:00</td>\n",
       "      <td>NaN</td>\n",
       "      <td>NaN</td>\n",
       "      <td>NaN</td>\n",
       "      <td>NaN</td>\n",
       "    </tr>\n",
       "    <tr>\n",
       "      <th>mean</th>\n",
       "      <td>NaN</td>\n",
       "      <td>NaN</td>\n",
       "      <td>NaN</td>\n",
       "      <td>12.623307</td>\n",
       "      <td>NaN</td>\n",
       "      <td>6.140931</td>\n",
       "      <td>15313.393466</td>\n",
       "      <td>NaN</td>\n",
       "      <td>33.715373</td>\n",
       "    </tr>\n",
       "    <tr>\n",
       "      <th>std</th>\n",
       "      <td>NaN</td>\n",
       "      <td>NaN</td>\n",
       "      <td>NaN</td>\n",
       "      <td>143.906302</td>\n",
       "      <td>NaN</td>\n",
       "      <td>119.042266</td>\n",
       "      <td>1695.765797</td>\n",
       "      <td>NaN</td>\n",
       "      <td>274.207403</td>\n",
       "    </tr>\n",
       "    <tr>\n",
       "      <th>min</th>\n",
       "      <td>NaN</td>\n",
       "      <td>NaN</td>\n",
       "      <td>NaN</td>\n",
       "      <td>-74215.000000</td>\n",
       "      <td>NaN</td>\n",
       "      <td>0.000000</td>\n",
       "      <td>12346.000000</td>\n",
       "      <td>NaN</td>\n",
       "      <td>-127352.940000</td>\n",
       "    </tr>\n",
       "    <tr>\n",
       "      <th>25%</th>\n",
       "      <td>NaN</td>\n",
       "      <td>NaN</td>\n",
       "      <td>NaN</td>\n",
       "      <td>2.000000</td>\n",
       "      <td>NaN</td>\n",
       "      <td>2.062500</td>\n",
       "      <td>13963.000000</td>\n",
       "      <td>NaN</td>\n",
       "      <td>7.260000</td>\n",
       "    </tr>\n",
       "    <tr>\n",
       "      <th>50%</th>\n",
       "      <td>NaN</td>\n",
       "      <td>NaN</td>\n",
       "      <td>NaN</td>\n",
       "      <td>5.000000</td>\n",
       "      <td>NaN</td>\n",
       "      <td>3.217500</td>\n",
       "      <td>15239.000000</td>\n",
       "      <td>NaN</td>\n",
       "      <td>19.470000</td>\n",
       "    </tr>\n",
       "    <tr>\n",
       "      <th>75%</th>\n",
       "      <td>NaN</td>\n",
       "      <td>NaN</td>\n",
       "      <td>NaN</td>\n",
       "      <td>12.000000</td>\n",
       "      <td>NaN</td>\n",
       "      <td>6.187500</td>\n",
       "      <td>16788.000000</td>\n",
       "      <td>NaN</td>\n",
       "      <td>32.175000</td>\n",
       "    </tr>\n",
       "    <tr>\n",
       "      <th>max</th>\n",
       "      <td>NaN</td>\n",
       "      <td>NaN</td>\n",
       "      <td>NaN</td>\n",
       "      <td>74215.000000</td>\n",
       "      <td>NaN</td>\n",
       "      <td>64300.500000</td>\n",
       "      <td>18287.000000</td>\n",
       "      <td>NaN</td>\n",
       "      <td>127352.940000</td>\n",
       "    </tr>\n",
       "  </tbody>\n",
       "</table>\n",
       "</div>"
      ],
      "text/plain": [
       "       order_id product_id                         description       quantity  \\\n",
       "count    780502     780502                              780502  780502.000000   \n",
       "unique    43955       4645                                5297            NaN   \n",
       "top      576339     85123A  WHITE HANGING HEART T-LIGHT HOLDER            NaN   \n",
       "freq        542       5096                                5096            NaN   \n",
       "first       NaN        NaN                                 NaN            NaN   \n",
       "last        NaN        NaN                                 NaN            NaN   \n",
       "mean        NaN        NaN                                 NaN      12.623307   \n",
       "std         NaN        NaN                                 NaN     143.906302   \n",
       "min         NaN        NaN                                 NaN  -74215.000000   \n",
       "25%         NaN        NaN                                 NaN       2.000000   \n",
       "50%         NaN        NaN                                 NaN       5.000000   \n",
       "75%         NaN        NaN                                 NaN      12.000000   \n",
       "max         NaN        NaN                                 NaN   74215.000000   \n",
       "\n",
       "                 order_date          price    customer_id         country  \\\n",
       "count                780502  780502.000000  780502.000000          780502   \n",
       "unique                40615            NaN            NaN              41   \n",
       "top     2011-11-14 15:27:00            NaN            NaN  United Kingdom   \n",
       "freq                    543            NaN            NaN          700317   \n",
       "first   2009-12-01 07:45:00            NaN            NaN             NaN   \n",
       "last    2011-11-30 17:42:00            NaN            NaN             NaN   \n",
       "mean                    NaN       6.140931   15313.393466             NaN   \n",
       "std                     NaN     119.042266    1695.765797             NaN   \n",
       "min                     NaN       0.000000   12346.000000             NaN   \n",
       "25%                     NaN       2.062500   13963.000000             NaN   \n",
       "50%                     NaN       3.217500   15239.000000             NaN   \n",
       "75%                     NaN       6.187500   16788.000000             NaN   \n",
       "max                     NaN   64300.500000   18287.000000             NaN   \n",
       "\n",
       "                total  \n",
       "count   780502.000000  \n",
       "unique            NaN  \n",
       "top               NaN  \n",
       "freq              NaN  \n",
       "first             NaN  \n",
       "last              NaN  \n",
       "mean        33.715373  \n",
       "std        274.207403  \n",
       "min    -127352.940000  \n",
       "25%          7.260000  \n",
       "50%         19.470000  \n",
       "75%         32.175000  \n",
       "max     127352.940000  "
      ]
     },
     "execution_count": 76,
     "metadata": {},
     "output_type": "execute_result"
    }
   ],
   "source": [
    "data.describe(include='all')"
   ]
  },
  {
   "cell_type": "markdown",
   "id": "cd1f98d0",
   "metadata": {},
   "source": [
    "## 2011년 11월 Label 데이터 생성"
   ]
  },
  {
   "cell_type": "code",
   "execution_count": 77,
   "id": "86e149f3",
   "metadata": {},
   "outputs": [],
   "source": [
    "label_2011_11 = generate_label(data, '2011-11')['label']"
   ]
  },
  {
   "cell_type": "markdown",
   "id": "0b778626",
   "metadata": {},
   "source": [
    "## Label 데이터 분포 플롯"
   ]
  },
  {
   "cell_type": "code",
   "execution_count": 78,
   "id": "c1ea0416",
   "metadata": {},
   "outputs": [
    {
     "data": {
      "text/plain": [
       "0    4534\n",
       "1    1188\n",
       "Name: label, dtype: int64"
      ]
     },
     "execution_count": 78,
     "metadata": {},
     "output_type": "execute_result"
    },
    {
     "data": {
      "image/png": "[encoded data removed]",
      "text/plain": [
       "<Figure size 432x288 with 1 Axes>"
      ]
     },
     "metadata": {
      "needs_background": "light"
     },
     "output_type": "display_data"
    }
   ],
   "source": [
    "sns.countplot(label_2011_11);\n",
    "label_2011_11.value_counts()"
   ]
  },
  {
   "cell_type": "markdown",
   "id": "352110e1",
   "metadata": {},
   "source": [
    "## LightGBM Hyperparameter 선언"
   ]
  },
  {
   "cell_type": "code",
   "execution_count": 79,
   "id": "cdfd37bd",
   "metadata": {},
   "outputs": [],
   "source": [
    "model_params = {\n",
    "    'objective': 'binary', # 이진 분류\n",
    "    'boosting_type': 'gbdt',\n",
    "    'metric': 'auc', # 평가 지표 설정\n",
    "    'feature_fraction': 0.8, # 피처 샘플링 비율\n",
    "    'bagging_fraction': 0.8, # 데이터 샘플링 비율\n",
    "    'bagging_freq': 1,\n",
    "    'n_estimators': 100, # 트리 개수\n",
    "    'seed': SEED,\n",
    "    'verbose': -1,\n",
    "    'n_jobs': -1,    \n",
    "}"
   ]
  },
  {
   "cell_type": "markdown",
   "id": "bde7077f",
   "metadata": {},
   "source": [
    "## 2011년 11월 베이스라인 모델 예측\n",
    "- Validation 성능 측정"
   ]
  },
  {
   "cell_type": "code",
   "execution_count": 80,
   "id": "d9d0bc32",
   "metadata": {},
   "outputs": [
    {
     "name": "stdout",
     "output_type": "stream",
     "text": [
      "categorical feature: []\n",
      "x_tr.shape (5501, 24) , x_te.shape (5722, 24)\n",
      "(5501, 21) (5722, 21)\n",
      "Precision: 0.62195\n",
      "Recall: 0.21465\n",
      "F1 Score: 0.31915\n",
      "ROC AUC Score: 0.76381\n"
     ]
    }
   ],
   "source": [
    "train, test, y, features = feature_engineering1(data, '2011-11')\n",
    "test_preds_2011_11, fi = make_lgb_prediction(train, y, test, features, model_params=model_params)\n",
    "print_score(label_2011_11, test_preds_2011_11)"
   ]
  },
  {
   "cell_type": "markdown",
   "id": "1d1dd753",
   "metadata": {},
   "source": [
    "## 2011년 11월 베이스라인 모델 예측 데이터 분포"
   ]
  },
  {
   "cell_type": "code",
   "execution_count": 81,
   "id": "df347429",
   "metadata": {},
   "outputs": [
    {
     "data": {
      "image/png": "[encoded data removed]",
      "text/plain": [
       "<Figure size 432x288 with 1 Axes>"
      ]
     },
     "metadata": {
      "needs_background": "light"
     },
     "output_type": "display_data"
    }
   ],
   "source": [
    "sns.distplot(test_preds_2011_11)\n",
    "plt.show()"
   ]
  },
  {
   "cell_type": "markdown",
   "id": "b4fef669",
   "metadata": {},
   "source": [
    "## 2011년 12월 베이스라인 모델 예측\n",
    "- 테스트 데이터 제출"
   ]
  },
  {
   "cell_type": "code",
   "execution_count": 82,
   "id": "f8b84895",
   "metadata": {},
   "outputs": [
    {
     "name": "stdout",
     "output_type": "stream",
     "text": [
      "categorical feature: []\n",
      "x_tr.shape (5722, 24) , x_te.shape (5914, 24)\n",
      "(5722, 21) (5914, 21)\n"
     ]
    }
   ],
   "source": [
    "train, test, y, features = feature_engineering1(data, '2011-12')\n",
    "test_preds, fi = make_lgb_prediction(train, y, test, features, model_params=model_params)"
   ]
  },
  {
   "cell_type": "markdown",
   "id": "d043ff86",
   "metadata": {},
   "source": [
    "## 2011년 12월 베이스라인 모델 예측 데이터 분포"
   ]
  },
  {
   "cell_type": "code",
   "execution_count": 83,
   "id": "00e4c8ad",
   "metadata": {},
   "outputs": [
    {
     "data": {
      "image/png": "[encoded data removed]",
      "text/plain": [
       "<Figure size 432x288 with 1 Axes>"
      ]
     },
     "metadata": {
      "needs_background": "light"
     },
     "output_type": "display_data"
    }
   ],
   "source": [
    "sns.distplot(test_preds)\n",
    "plt.show()"
   ]
  },
  {
   "cell_type": "markdown",
   "id": "21358f1b",
   "metadata": {},
   "source": [
    "## 피처 중요도 플롯"
   ]
  },
  {
   "cell_type": "code",
   "execution_count": 84,
   "id": "ebf1d771",
   "metadata": {},
   "outputs": [
    {
     "data": {
      "image/png": "[encoded data removed]",
      "text/plain": [
       "<Figure size 864x576 with 1 Axes>"
      ]
     },
     "metadata": {},
     "output_type": "display_data"
    }
   ],
   "source": [
    "fi = plot_feature_importances(fi)"
   ]
  },
  {
   "cell_type": "markdown",
   "id": "6d00fae9",
   "metadata": {},
   "source": [
    "# 제출 파일 생성"
   ]
  },
  {
   "cell_type": "code",
   "execution_count": 42,
   "id": "a1c6b5b8",
   "metadata": {},
   "outputs": [],
   "source": [
    "output_dir = '../output'\n",
    "os.makedirs(output_dir, exist_ok=True)\n",
    "submission = pd.read_csv('../input/sample_submission.csv')\n",
    "submission['probability'] = test_preds\n",
    "submission.to_csv(os.path.join(output_dir, 'output_(5)baseline2.csv'), index=False)"
   ]
  },
  {
   "cell_type": "code",
   "execution_count": null,
   "id": "6c8d445b",
   "metadata": {},
   "outputs": [],
   "source": []
  }
 ],
 "metadata": {
  "kernelspec": {
   "display_name": "Python 3",
   "language": "python",
   "name": "python3"
  },
  "language_info": {
   "codemirror_mode": {
    "name": "ipython",
    "version": 3
   },
   "file_extension": ".py",
   "mimetype": "text/x-python",
   "name": "python",
   "nbconvert_exporter": "python",
   "pygments_lexer": "ipython3",
   "version": "3.7.7"
  }
 },
 "nbformat": 4,
 "nbformat_minor": 5
}
