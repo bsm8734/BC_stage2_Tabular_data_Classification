{
 "cells": [
  {
   "cell_type": "markdown",
   "id": "b7690f63",
   "metadata": {
    "id": "diverse-intervention"
   },
   "source": [
    "# 3강 전처리 - daily mission"
   ]
  },
  {
   "cell_type": "markdown",
   "id": "d7e2464e",
   "metadata": {
    "id": "commercial-bobby"
   },
   "source": [
    "### mission - 기본적인 전처리를 실습해보고 적용해보자\n",
    "- 강의에 소개된 전처리들을 Sklearn Toy data 및, retail data를 이용하여 적용해봅니다."
   ]
  },
  {
   "cell_type": "code",
   "execution_count": null,
   "id": "4789811b",
   "metadata": {
    "id": "separated-banks"
   },
   "outputs": [],
   "source": [
    "from sklearn import datasets\n",
    "import pandas as pd\n",
    "import numpy as np\n",
    "import datetime as dt\n",
    "import math\n",
    "import glob\n",
    "import os\n",
    "import random\n",
    "import re\n",
    "import datatable as dt\n",
    "import collections\n",
    "import random\n",
    "\n",
    "from scipy.interpolate import make_interp_spline, BSpline\n",
    "from sklearn import preprocessing\n",
    "from sklearn.preprocessing import quantile_transform\n",
    "from sklearn.preprocessing import MinMaxScaler\n",
    "from sklearn.model_selection import train_test_split\n",
    "from sklearn.linear_model import LinearRegression\n",
    "\n",
    "import seaborn as sns\n",
    "from gensim.models import Word2Vec\n",
    "\n",
    "import matplotlib.pyplot as plt\n",
    "import warnings\n",
    "warnings.filterwarnings(\"ignore\")"
   ]
  },
  {
   "cell_type": "code",
   "execution_count": null,
   "id": "923975fd",
   "metadata": {
    "id": "metropolitan-charleston",
    "outputId": "4353e453-3be9-4b33-a926-1b2f768ccd91"
   },
   "outputs": [
    {
     "name": "stdout",
     "output_type": "stream",
     "text": [
      "pd version : 1.2.1\n",
      "np version : 1.19.2\n"
     ]
    }
   ],
   "source": [
    "print(\"pd version : \" + pd.__version__)\n",
    "print(\"np version : \" + np.__version__)"
   ]
  },
  {
   "cell_type": "markdown",
   "id": "f14e4ee0",
   "metadata": {
    "id": "passive-knitting"
   },
   "source": [
    "### set seed"
   ]
  },
  {
   "cell_type": "code",
   "execution_count": null,
   "id": "823df691",
   "metadata": {
    "id": "indirect-thomas"
   },
   "outputs": [],
   "source": [
    "def seed_everything(seed=0):\n",
    "    random.seed(seed)\n",
    "    os.environ['PYTHONHASHSEED'] = str(seed)\n",
    "    np.random.seed(seed)\n",
    "    \n",
    "SEED = 42\n",
    "seed_everything(SEED)"
   ]
  },
  {
   "cell_type": "markdown",
   "id": "8040ffe8",
   "metadata": {
    "id": "other-venezuela"
   },
   "source": [
    "### load data"
   ]
  },
  {
   "cell_type": "code",
   "execution_count": null,
   "id": "2935f470",
   "metadata": {
    "id": "regional-hungary",
    "outputId": "fb49af34-8c94-4517-b0ef-1912ee6cf30c"
   },
   "outputs": [
    {
     "name": "stdout",
     "output_type": "stream",
     "text": [
      "['./input\\\\label.txt', './input\\\\sample_submission.txt', './input\\\\train.txt']\n"
     ]
    }
   ],
   "source": [
    "root = './input/'\n",
    "dataset_path = glob.glob(root + \"*.csv\")\n",
    "print(dataset_path)"
   ]
  },
  {
   "cell_type": "code",
   "execution_count": null,
   "id": "b390e3a5",
   "metadata": {
    "id": "effective-magic"
   },
   "outputs": [],
   "source": [
    "sample_submission = pd.read_csv(dataset_path[np.where(pd.Series(dataset_path).str.find(\"submission\") != -1)[0][0]])\n",
    "train = pd.read_csv(dataset_path[np.where(pd.Series(dataset_path).str.find(\"train\") != -1)[0][0]])"
   ]
  },
  {
   "cell_type": "markdown",
   "id": "c85fedf5",
   "metadata": {
    "id": "prostate-outline"
   },
   "source": [
    "# 1. numeric "
   ]
  },
  {
   "cell_type": "markdown",
   "id": "b075f1f1",
   "metadata": {
    "id": "variable-heart"
   },
   "source": [
    "- scaling\n",
    "- sklearn의 Toy data set을 이용하여 단순한 quantile transformation을 시행합니다.그리고 scaling 전, 후의 분포를 비교해 봅니다."
   ]
  },
  {
   "cell_type": "code",
   "execution_count": null,
   "id": "7fd84f77",
   "metadata": {
    "id": "varying-header",
    "outputId": "ee946e71-1f33-45e9-cf1e-a006e81a60c6"
   },
   "outputs": [
    {
     "data": {
      "text/html": [
       "<div>\n",
       "<style scoped>\n",
       "    .dataframe tbody tr th:only-of-type {\n",
       "        vertical-align: middle;\n",
       "    }\n",
       "\n",
       "    .dataframe tbody tr th {\n",
       "        vertical-align: top;\n",
       "    }\n",
       "\n",
       "    .dataframe thead th {\n",
       "        text-align: right;\n",
       "    }\n",
       "</style>\n",
       "<table border=\"1\" class=\"dataframe\">\n",
       "  <thead>\n",
       "    <tr style=\"text-align: right;\">\n",
       "      <th></th>\n",
       "      <th>CRIM</th>\n",
       "      <th>ZN</th>\n",
       "      <th>INDUS</th>\n",
       "      <th>CHAS</th>\n",
       "      <th>NOX</th>\n",
       "      <th>RM</th>\n",
       "      <th>AGE</th>\n",
       "      <th>DIS</th>\n",
       "      <th>RAD</th>\n",
       "      <th>TAX</th>\n",
       "      <th>PTRATIO</th>\n",
       "      <th>B</th>\n",
       "      <th>LSTAT</th>\n",
       "    </tr>\n",
       "  </thead>\n",
       "  <tbody>\n",
       "    <tr>\n",
       "      <th>count</th>\n",
       "      <td>506.000000</td>\n",
       "      <td>506.000000</td>\n",
       "      <td>506.000000</td>\n",
       "      <td>506.000000</td>\n",
       "      <td>506.000000</td>\n",
       "      <td>506.000000</td>\n",
       "      <td>506.000000</td>\n",
       "      <td>506.000000</td>\n",
       "      <td>506.000000</td>\n",
       "      <td>506.000000</td>\n",
       "      <td>506.000000</td>\n",
       "      <td>506.000000</td>\n",
       "      <td>506.000000</td>\n",
       "    </tr>\n",
       "    <tr>\n",
       "      <th>mean</th>\n",
       "      <td>3.613524</td>\n",
       "      <td>11.363636</td>\n",
       "      <td>11.136779</td>\n",
       "      <td>0.069170</td>\n",
       "      <td>0.554695</td>\n",
       "      <td>6.284634</td>\n",
       "      <td>68.574901</td>\n",
       "      <td>3.795043</td>\n",
       "      <td>9.549407</td>\n",
       "      <td>408.237154</td>\n",
       "      <td>18.455534</td>\n",
       "      <td>356.674032</td>\n",
       "      <td>12.653063</td>\n",
       "    </tr>\n",
       "    <tr>\n",
       "      <th>std</th>\n",
       "      <td>8.601545</td>\n",
       "      <td>23.322453</td>\n",
       "      <td>6.860353</td>\n",
       "      <td>0.253994</td>\n",
       "      <td>0.115878</td>\n",
       "      <td>0.702617</td>\n",
       "      <td>28.148861</td>\n",
       "      <td>2.105710</td>\n",
       "      <td>8.707259</td>\n",
       "      <td>168.537116</td>\n",
       "      <td>2.164946</td>\n",
       "      <td>91.294864</td>\n",
       "      <td>7.141062</td>\n",
       "    </tr>\n",
       "    <tr>\n",
       "      <th>min</th>\n",
       "      <td>0.006320</td>\n",
       "      <td>0.000000</td>\n",
       "      <td>0.460000</td>\n",
       "      <td>0.000000</td>\n",
       "      <td>0.385000</td>\n",
       "      <td>3.561000</td>\n",
       "      <td>2.900000</td>\n",
       "      <td>1.129600</td>\n",
       "      <td>1.000000</td>\n",
       "      <td>187.000000</td>\n",
       "      <td>12.600000</td>\n",
       "      <td>0.320000</td>\n",
       "      <td>1.730000</td>\n",
       "    </tr>\n",
       "    <tr>\n",
       "      <th>25%</th>\n",
       "      <td>0.082045</td>\n",
       "      <td>0.000000</td>\n",
       "      <td>5.190000</td>\n",
       "      <td>0.000000</td>\n",
       "      <td>0.449000</td>\n",
       "      <td>5.885500</td>\n",
       "      <td>45.025000</td>\n",
       "      <td>2.100175</td>\n",
       "      <td>4.000000</td>\n",
       "      <td>279.000000</td>\n",
       "      <td>17.400000</td>\n",
       "      <td>375.377500</td>\n",
       "      <td>6.950000</td>\n",
       "    </tr>\n",
       "    <tr>\n",
       "      <th>50%</th>\n",
       "      <td>0.256510</td>\n",
       "      <td>0.000000</td>\n",
       "      <td>9.690000</td>\n",
       "      <td>0.000000</td>\n",
       "      <td>0.538000</td>\n",
       "      <td>6.208500</td>\n",
       "      <td>77.500000</td>\n",
       "      <td>3.207450</td>\n",
       "      <td>5.000000</td>\n",
       "      <td>330.000000</td>\n",
       "      <td>19.050000</td>\n",
       "      <td>391.440000</td>\n",
       "      <td>11.360000</td>\n",
       "    </tr>\n",
       "    <tr>\n",
       "      <th>75%</th>\n",
       "      <td>3.677083</td>\n",
       "      <td>12.500000</td>\n",
       "      <td>18.100000</td>\n",
       "      <td>0.000000</td>\n",
       "      <td>0.624000</td>\n",
       "      <td>6.623500</td>\n",
       "      <td>94.075000</td>\n",
       "      <td>5.188425</td>\n",
       "      <td>24.000000</td>\n",
       "      <td>666.000000</td>\n",
       "      <td>20.200000</td>\n",
       "      <td>396.225000</td>\n",
       "      <td>16.955000</td>\n",
       "    </tr>\n",
       "    <tr>\n",
       "      <th>max</th>\n",
       "      <td>88.976200</td>\n",
       "      <td>100.000000</td>\n",
       "      <td>27.740000</td>\n",
       "      <td>1.000000</td>\n",
       "      <td>0.871000</td>\n",
       "      <td>8.780000</td>\n",
       "      <td>100.000000</td>\n",
       "      <td>12.126500</td>\n",
       "      <td>24.000000</td>\n",
       "      <td>711.000000</td>\n",
       "      <td>22.000000</td>\n",
       "      <td>396.900000</td>\n",
       "      <td>37.970000</td>\n",
       "    </tr>\n",
       "  </tbody>\n",
       "</table>\n",
       "</div>"
      ],
      "text/plain": [
       "             CRIM          ZN       INDUS        CHAS         NOX          RM  \\\n",
       "count  506.000000  506.000000  506.000000  506.000000  506.000000  506.000000   \n",
       "mean     3.613524   11.363636   11.136779    0.069170    0.554695    6.284634   \n",
       "std      8.601545   23.322453    6.860353    0.253994    0.115878    0.702617   \n",
       "min      0.006320    0.000000    0.460000    0.000000    0.385000    3.561000   \n",
       "25%      0.082045    0.000000    5.190000    0.000000    0.449000    5.885500   \n",
       "50%      0.256510    0.000000    9.690000    0.000000    0.538000    6.208500   \n",
       "75%      3.677083   12.500000   18.100000    0.000000    0.624000    6.623500   \n",
       "max     88.976200  100.000000   27.740000    1.000000    0.871000    8.780000   \n",
       "\n",
       "              AGE         DIS         RAD         TAX     PTRATIO           B  \\\n",
       "count  506.000000  506.000000  506.000000  506.000000  506.000000  506.000000   \n",
       "mean    68.574901    3.795043    9.549407  408.237154   18.455534  356.674032   \n",
       "std     28.148861    2.105710    8.707259  168.537116    2.164946   91.294864   \n",
       "min      2.900000    1.129600    1.000000  187.000000   12.600000    0.320000   \n",
       "25%     45.025000    2.100175    4.000000  279.000000   17.400000  375.377500   \n",
       "50%     77.500000    3.207450    5.000000  330.000000   19.050000  391.440000   \n",
       "75%     94.075000    5.188425   24.000000  666.000000   20.200000  396.225000   \n",
       "max    100.000000   12.126500   24.000000  711.000000   22.000000  396.900000   \n",
       "\n",
       "            LSTAT  \n",
       "count  506.000000  \n",
       "mean    12.653063  \n",
       "std      7.141062  \n",
       "min      1.730000  \n",
       "25%      6.950000  \n",
       "50%     11.360000  \n",
       "75%     16.955000  \n",
       "max     37.970000  "
      ]
     },
     "execution_count": 83,
     "metadata": {
      "tags": []
     },
     "output_type": "execute_result"
    }
   ],
   "source": [
    "df, target = datasets.load_boston(return_X_y=True)\n",
    "Datasets = datasets.load_boston()\n",
    "\n",
    "df = pd.DataFrame(df)\n",
    "df.columns = Datasets['feature_names']\n",
    "df.describe()"
   ]
  },
  {
   "cell_type": "code",
   "execution_count": null,
   "id": "6d789532",
   "metadata": {
    "id": "insured-element",
    "outputId": "40aeb8f4-5c75-486f-c8f1-23182da7ea03"
   },
   "outputs": [
    {
     "data": {
      "image/png": "[encoded data removed]",
      "text/plain": [
       "<Figure size 432x288 with 1 Axes>"
      ]
     },
     "metadata": {
      "needs_background": "light",
      "tags": []
     },
     "output_type": "display_data"
    },
    {
     "data": {
      "image/png": "[encoded data removed]",
      "text/plain": [
       "<Figure size 432x288 with 1 Axes>"
      ]
     },
     "metadata": {
      "needs_background": "light",
      "tags": []
     },
     "output_type": "display_data"
    },
    {
     "data": {
      "image/png": "[encoded data removed]",
      "text/plain": [
       "<Figure size 432x288 with 1 Axes>"
      ]
     },
     "metadata": {
      "needs_background": "light",
      "tags": []
     },
     "output_type": "display_data"
    },
    {
     "data": {
      "image/png": "[encoded data removed]",
      "text/plain": [
       "<Figure size 432x288 with 1 Axes>"
      ]
     },
     "metadata": {
      "needs_background": "light",
      "tags": []
     },
     "output_type": "display_data"
    },
    {
     "data": {
      "image/png": "[encoded data removed]",
      "text/plain": [
       "<Figure size 432x288 with 1 Axes>"
      ]
     },
     "metadata": {
      "needs_background": "light",
      "tags": []
     },
     "output_type": "display_data"
    },
    {
     "data": {
      "image/png": "[encoded data removed]",
      "text/plain": [
       "<Figure size 432x288 with 1 Axes>"
      ]
     },
     "metadata": {
      "needs_background": "light",
      "tags": []
     },
     "output_type": "display_data"
    },
    {
     "data": {
      "image/png": "[encoded data removed]",
      "text/plain": [
       "<Figure size 432x288 with 1 Axes>"
      ]
     },
     "metadata": {
      "needs_background": "light",
      "tags": []
     },
     "output_type": "display_data"
    },
    {
     "data": {
      "image/png": "[encoded data removed]",
      "text/plain": [
       "<Figure size 432x288 with 1 Axes>"
      ]
     },
     "metadata": {
      "needs_background": "light",
      "tags": []
     },
     "output_type": "display_data"
    },
    {
     "data": {
      "image/png": "[encoded data removed]",
      "text/plain": [
       "<Figure size 432x288 with 1 Axes>"
      ]
     },
     "metadata": {
      "needs_background": "light",
      "tags": []
     },
     "output_type": "display_data"
    },
    {
     "data": {
      "image/png": "[encoded data removed]",
      "text/plain": [
       "<Figure size 432x288 with 1 Axes>"
      ]
     },
     "metadata": {
      "needs_background": "light",
      "tags": []
     },
     "output_type": "display_data"
    },
    {
     "data": {
      "image/png": "[encoded data removed]",
      "text/plain": [
       "<Figure size 432x288 with 1 Axes>"
      ]
     },
     "metadata": {
      "needs_background": "light",
      "tags": []
     },
     "output_type": "display_data"
    },
    {
     "data": {
      "image/png": "[encoded data removed]",
      "text/plain": [
       "<Figure size 432x288 with 1 Axes>"
      ]
     },
     "metadata": {
      "needs_background": "light",
      "tags": []
     },
     "output_type": "display_data"
    },
    {
     "data": {
      "image/png": "[encoded data removed]",
      "text/plain": [
       "<Figure size 432x288 with 1 Axes>"
      ]
     },
     "metadata": {
      "needs_background": "light",
      "tags": []
     },
     "output_type": "display_data"
    }
   ],
   "source": [
    "for col in df.columns:    \n",
    "    plt.figure()\n",
    "    sns.histplot(df[col])    \n",
    "    plt.show()"
   ]
  },
  {
   "cell_type": "code",
   "execution_count": null,
   "id": "bb7d555b",
   "metadata": {
    "id": "irish-kruger",
    "outputId": "0e053cd2-238e-4f58-b815-66f1c62209ce"
   },
   "outputs": [
    {
     "data": {
      "image/png": "[encoded data removed]",
      "text/plain": [
       "<Figure size 432x288 with 1 Axes>"
      ]
     },
     "metadata": {
      "needs_background": "light",
      "tags": []
     },
     "output_type": "display_data"
    },
    {
     "data": {
      "image/png": "[encoded data removed]",
      "text/plain": [
       "<Figure size 432x288 with 1 Axes>"
      ]
     },
     "metadata": {
      "needs_background": "light",
      "tags": []
     },
     "output_type": "display_data"
    },
    {
     "data": {
      "image/png": "[encoded data removed]",
      "text/plain": [
       "<Figure size 432x288 with 1 Axes>"
      ]
     },
     "metadata": {
      "needs_background": "light",
      "tags": []
     },
     "output_type": "display_data"
    },
    {
     "data": {
      "image/png": "[encoded data removed]",
      "text/plain": [
       "<Figure size 432x288 with 1 Axes>"
      ]
     },
     "metadata": {
      "needs_background": "light",
      "tags": []
     },
     "output_type": "display_data"
    },
    {
     "data": {
      "image/png": "[encoded data removed]",
      "text/plain": [
       "<Figure size 432x288 with 1 Axes>"
      ]
     },
     "metadata": {
      "needs_background": "light",
      "tags": []
     },
     "output_type": "display_data"
    },
    {
     "data": {
      "image/png": "[encoded data removed]",
      "text/plain": [
       "<Figure size 432x288 with 1 Axes>"
      ]
     },
     "metadata": {
      "needs_background": "light",
      "tags": []
     },
     "output_type": "display_data"
    },
    {
     "data": {
      "image/png": "[encoded data removed]",
      "text/plain": [
       "<Figure size 432x288 with 1 Axes>"
      ]
     },
     "metadata": {
      "needs_background": "light",
      "tags": []
     },
     "output_type": "display_data"
    },
    {
     "data": {
      "image/png": "[encoded data removed]",
      "text/plain": [
       "<Figure size 432x288 with 1 Axes>"
      ]
     },
     "metadata": {
      "needs_background": "light",
      "tags": []
     },
     "output_type": "display_data"
    },
    {
     "data": {
      "image/png": "[encoded data removed]",
      "text/plain": [
       "<Figure size 432x288 with 1 Axes>"
      ]
     },
     "metadata": {
      "needs_background": "light",
      "tags": []
     },
     "output_type": "display_data"
    },
    {
     "data": {
      "image/png": "[encoded data removed]",
      "text/plain": [
       "<Figure size 432x288 with 1 Axes>"
      ]
     },
     "metadata": {
      "needs_background": "light",
      "tags": []
     },
     "output_type": "display_data"
    },
    {
     "data": {
      "image/png": "[encoded data removed]",
      "text/plain": [
       "<Figure size 432x288 with 1 Axes>"
      ]
     },
     "metadata": {
      "needs_background": "light",
      "tags": []
     },
     "output_type": "display_data"
    },
    {
     "data": {
      "image/png": "[encoded data removed]",
      "text/plain": [
       "<Figure size 432x288 with 1 Axes>"
      ]
     },
     "metadata": {
      "needs_background": "light",
      "tags": []
     },
     "output_type": "display_data"
    },
    {
     "data": {
      "image/png": "[encoded data removed]",
      "text/plain": [
       "<Figure size 432x288 with 1 Axes>"
      ]
     },
     "metadata": {
      "needs_background": "light",
      "tags": []
     },
     "output_type": "display_data"
    }
   ],
   "source": [
    "df_scaled = df.copy()\n",
    "for col in df.columns:\n",
    "    \n",
    "    temp = quantile_transform(np.array(df[col]).astype(\"float\").reshape(-1,1), n_quantiles=100, random_state=0, copy=True, \n",
    "                         output_distribution = \"normal\").reshape(-1)    \n",
    "    \n",
    "    df_scaled[col] = temp\n",
    "    sns.histplot(temp)    \n",
    "    plt.show()"
   ]
  },
  {
   "cell_type": "code",
   "execution_count": null,
   "id": "f5ab0e48",
   "metadata": {
    "id": "understood-sheffield",
    "outputId": "6f4eedd5-b8a5-4bf7-8521-ab56647c036d"
   },
   "outputs": [
    {
     "data": {
      "text/html": [
       "<div>\n",
       "<style scoped>\n",
       "    .dataframe tbody tr th:only-of-type {\n",
       "        vertical-align: middle;\n",
       "    }\n",
       "\n",
       "    .dataframe tbody tr th {\n",
       "        vertical-align: top;\n",
       "    }\n",
       "\n",
       "    .dataframe thead th {\n",
       "        text-align: right;\n",
       "    }\n",
       "</style>\n",
       "<table border=\"1\" class=\"dataframe\">\n",
       "  <thead>\n",
       "    <tr style=\"text-align: right;\">\n",
       "      <th></th>\n",
       "      <th>CRIM</th>\n",
       "      <th>ZN</th>\n",
       "      <th>INDUS</th>\n",
       "      <th>CHAS</th>\n",
       "      <th>NOX</th>\n",
       "      <th>RM</th>\n",
       "      <th>AGE</th>\n",
       "      <th>DIS</th>\n",
       "      <th>RAD</th>\n",
       "      <th>TAX</th>\n",
       "      <th>PTRATIO</th>\n",
       "      <th>B</th>\n",
       "      <th>LSTAT</th>\n",
       "    </tr>\n",
       "  </thead>\n",
       "  <tbody>\n",
       "    <tr>\n",
       "      <th>0</th>\n",
       "      <td>-5.199338</td>\n",
       "      <td>0.701628</td>\n",
       "      <td>-1.511407</td>\n",
       "      <td>-5.199338</td>\n",
       "      <td>0.037988</td>\n",
       "      <td>0.614807</td>\n",
       "      <td>-0.268910</td>\n",
       "      <td>0.354501</td>\n",
       "      <td>-5.199338</td>\n",
       "      <td>-0.472789</td>\n",
       "      <td>-1.066652</td>\n",
       "      <td>5.199338</td>\n",
       "      <td>-1.172113</td>\n",
       "    </tr>\n",
       "    <tr>\n",
       "      <th>1</th>\n",
       "      <td>-1.657193</td>\n",
       "      <td>-5.199338</td>\n",
       "      <td>-0.262197</td>\n",
       "      <td>-5.199338</td>\n",
       "      <td>-0.526581</td>\n",
       "      <td>0.369064</td>\n",
       "      <td>0.032500</td>\n",
       "      <td>0.620291</td>\n",
       "      <td>-1.549706</td>\n",
       "      <td>-1.221291</td>\n",
       "      <td>-0.472789</td>\n",
       "      <td>5.199338</td>\n",
       "      <td>-0.334339</td>\n",
       "    </tr>\n",
       "    <tr>\n",
       "      <th>2</th>\n",
       "      <td>-1.657587</td>\n",
       "      <td>-5.199338</td>\n",
       "      <td>-0.262197</td>\n",
       "      <td>-5.199338</td>\n",
       "      <td>-0.526581</td>\n",
       "      <td>1.332568</td>\n",
       "      <td>-0.330178</td>\n",
       "      <td>0.620291</td>\n",
       "      <td>-1.549706</td>\n",
       "      <td>-1.221291</td>\n",
       "      <td>-0.472789</td>\n",
       "      <td>0.141400</td>\n",
       "      <td>-1.514886</td>\n",
       "    </tr>\n",
       "    <tr>\n",
       "      <th>3</th>\n",
       "      <td>-1.511532</td>\n",
       "      <td>-5.199338</td>\n",
       "      <td>-1.639976</td>\n",
       "      <td>-5.199338</td>\n",
       "      <td>-0.611450</td>\n",
       "      <td>1.144528</td>\n",
       "      <td>-0.646650</td>\n",
       "      <td>0.965808</td>\n",
       "      <td>-1.168949</td>\n",
       "      <td>-1.639976</td>\n",
       "      <td>-0.063341</td>\n",
       "      <td>0.385122</td>\n",
       "      <td>-2.200635</td>\n",
       "    </tr>\n",
       "    <tr>\n",
       "      <th>4</th>\n",
       "      <td>-0.769753</td>\n",
       "      <td>-5.199338</td>\n",
       "      <td>-1.639976</td>\n",
       "      <td>-5.199338</td>\n",
       "      <td>-0.611450</td>\n",
       "      <td>1.274890</td>\n",
       "      <td>-0.462778</td>\n",
       "      <td>0.965808</td>\n",
       "      <td>-1.168949</td>\n",
       "      <td>-1.639976</td>\n",
       "      <td>-0.063341</td>\n",
       "      <td>5.199338</td>\n",
       "      <td>-1.065016</td>\n",
       "    </tr>\n",
       "  </tbody>\n",
       "</table>\n",
       "</div>"
      ],
      "text/plain": [
       "       CRIM        ZN     INDUS      CHAS       NOX        RM       AGE  \\\n",
       "0 -5.199338  0.701628 -1.511407 -5.199338  0.037988  0.614807 -0.268910   \n",
       "1 -1.657193 -5.199338 -0.262197 -5.199338 -0.526581  0.369064  0.032500   \n",
       "2 -1.657587 -5.199338 -0.262197 -5.199338 -0.526581  1.332568 -0.330178   \n",
       "3 -1.511532 -5.199338 -1.639976 -5.199338 -0.611450  1.144528 -0.646650   \n",
       "4 -0.769753 -5.199338 -1.639976 -5.199338 -0.611450  1.274890 -0.462778   \n",
       "\n",
       "        DIS       RAD       TAX   PTRATIO         B     LSTAT  \n",
       "0  0.354501 -5.199338 -0.472789 -1.066652  5.199338 -1.172113  \n",
       "1  0.620291 -1.549706 -1.221291 -0.472789  5.199338 -0.334339  \n",
       "2  0.620291 -1.549706 -1.221291 -0.472789  0.141400 -1.514886  \n",
       "3  0.965808 -1.168949 -1.639976 -0.063341  0.385122 -2.200635  \n",
       "4  0.965808 -1.168949 -1.639976 -0.063341  5.199338 -1.065016  "
      ]
     },
     "execution_count": 107,
     "metadata": {
      "tags": []
     },
     "output_type": "execute_result"
    }
   ],
   "source": [
    "df_scaled.head()"
   ]
  },
  {
   "cell_type": "markdown",
   "id": "50fb9c14",
   "metadata": {
    "id": "peaceful-smile"
   },
   "source": [
    "Quantile transformer에 대한 자세한 얘기는 아래 링크에서 많이 다루어 지고 있습니다. \\\n",
    "https://www.kaggle.com/c/lish-moa/discussion/193717 \\\n",
    "kaggle moa competition의 경우 quantile transformation을 많은 사람들이 취해주었고, \\\n",
    "해당 내용의 원리에 대해서 많은 토론이 이루어졌습니다. \n"
   ]
  },
  {
   "cell_type": "markdown",
   "id": "78e96a0b",
   "metadata": {
    "id": "twenty-vitamin"
   },
   "source": [
    "# 2. categorical "
   ]
  },
  {
   "cell_type": "markdown",
   "id": "383a97bf",
   "metadata": {
    "id": "technological-voluntary"
   },
   "source": [
    "- one hot encoding\n",
    "- label encoding\n",
    "- freq encoding\n",
    "- target encoding\n",
    "\n",
    "retail data를 이용하여 다양한 encoding방법을 알아보고, \\\n",
    "저희가 competition에서 사용하는 데이터와 유사한 데이터를 이용한 \\\n",
    "kaggle competition의 링크를 통해 공부하시고, 저희 데이터에 적용하셔도 될 것 같습니다.\n"
   ]
  },
  {
   "cell_type": "code",
   "execution_count": null,
   "id": "bdb4a072",
   "metadata": {
    "id": "handmade-success"
   },
   "outputs": [],
   "source": [
    "def Aggregation(input_df):\n",
    "    data = input_df.copy()\n",
    "    \n",
    "    # group by 할 기준은 customer_id입니다.\n",
    "    standard = ['customer_id']\n",
    "    \n",
    "    # total은 sum으로, quantity, price는 mean값을 사용합니다.\n",
    "    sum_numeric = ['total']\n",
    "    mean_numeric = ['quantity','price']\n",
    "    \n",
    "    # 현재 aggregation할 때 country만 사용하되, 고객의 구매기록의 마지막 거주지를 사용합니다.\n",
    "    cat = ['country']\n",
    "    \n",
    "    data_agg_sum = data.groupby(standard).sum().reset_index()[standard + sum_numeric].sort_values('customer_id')\n",
    "    data_agg_mean = data.groupby(standard).mean().reset_index()[standard + mean_numeric].sort_values('customer_id')\n",
    "    data_agg_cat = data.drop_duplicates(standard, keep='last').reset_index()[standard + cat].sort_values('customer_id')\n",
    "    \n",
    "    data_agg = pd.merge(data_agg_sum, data_agg_mean, on=standard)\n",
    "    data_agg = pd.merge(data_agg, data_agg_cat, on=standard)\n",
    "    \n",
    "    return data_agg"
   ]
  },
  {
   "cell_type": "code",
   "execution_count": null,
   "id": "54f48f70",
   "metadata": {
    "id": "meaning-mixture",
    "outputId": "469fb983-cb99-4024-f93d-4368f2c93175"
   },
   "outputs": [
    {
     "data": {
      "text/html": [
       "<div>\n",
       "<style scoped>\n",
       "    .dataframe tbody tr th:only-of-type {\n",
       "        vertical-align: middle;\n",
       "    }\n",
       "\n",
       "    .dataframe tbody tr th {\n",
       "        vertical-align: top;\n",
       "    }\n",
       "\n",
       "    .dataframe thead th {\n",
       "        text-align: right;\n",
       "    }\n",
       "</style>\n",
       "<table border=\"1\" class=\"dataframe\">\n",
       "  <thead>\n",
       "    <tr style=\"text-align: right;\">\n",
       "      <th></th>\n",
       "      <th>customer_id</th>\n",
       "      <th>total</th>\n",
       "      <th>quantity</th>\n",
       "      <th>price</th>\n",
       "      <th>country</th>\n",
       "    </tr>\n",
       "  </thead>\n",
       "  <tbody>\n",
       "    <tr>\n",
       "      <th>0</th>\n",
       "      <td>12346</td>\n",
       "      <td>-85.3710</td>\n",
       "      <td>1.127660</td>\n",
       "      <td>19.922872</td>\n",
       "      <td>United Kingdom</td>\n",
       "    </tr>\n",
       "    <tr>\n",
       "      <th>1</th>\n",
       "      <td>12347</td>\n",
       "      <td>7749.5715</td>\n",
       "      <td>13.151659</td>\n",
       "      <td>4.230803</td>\n",
       "      <td>Iceland</td>\n",
       "    </tr>\n",
       "    <tr>\n",
       "      <th>2</th>\n",
       "      <td>12348</td>\n",
       "      <td>3332.0100</td>\n",
       "      <td>53.215686</td>\n",
       "      <td>6.247353</td>\n",
       "      <td>Finland</td>\n",
       "    </tr>\n",
       "    <tr>\n",
       "      <th>3</th>\n",
       "      <td>12349</td>\n",
       "      <td>7267.4910</td>\n",
       "      <td>8.994444</td>\n",
       "      <td>13.792075</td>\n",
       "      <td>Italy</td>\n",
       "    </tr>\n",
       "    <tr>\n",
       "      <th>4</th>\n",
       "      <td>12350</td>\n",
       "      <td>551.7600</td>\n",
       "      <td>11.588235</td>\n",
       "      <td>6.337941</td>\n",
       "      <td>Norway</td>\n",
       "    </tr>\n",
       "  </tbody>\n",
       "</table>\n",
       "</div>"
      ],
      "text/plain": [
       "   customer_id      total   quantity      price         country\n",
       "0        12346   -85.3710   1.127660  19.922872  United Kingdom\n",
       "1        12347  7749.5715  13.151659   4.230803         Iceland\n",
       "2        12348  3332.0100  53.215686   6.247353         Finland\n",
       "3        12349  7267.4910   8.994444  13.792075           Italy\n",
       "4        12350   551.7600  11.588235   6.337941          Norway"
      ]
     },
     "execution_count": 45,
     "metadata": {
      "tags": []
     },
     "output_type": "execute_result"
    }
   ],
   "source": [
    "train_temp = Aggregation(train)\n",
    "train_temp.head()"
   ]
  },
  {
   "cell_type": "markdown",
   "id": "47e49832",
   "metadata": {
    "id": "banner-prevention"
   },
   "source": [
    "- one hot encoding"
   ]
  },
  {
   "cell_type": "code",
   "execution_count": null,
   "id": "799bdbc8",
   "metadata": {
    "id": "adapted-carter",
    "outputId": "fbbf6ebd-7300-4fb8-aec0-2bb75c15ed50"
   },
   "outputs": [
    {
     "data": {
      "text/html": [
       "<div>\n",
       "<style scoped>\n",
       "    .dataframe tbody tr th:only-of-type {\n",
       "        vertical-align: middle;\n",
       "    }\n",
       "\n",
       "    .dataframe tbody tr th {\n",
       "        vertical-align: top;\n",
       "    }\n",
       "\n",
       "    .dataframe thead th {\n",
       "        text-align: right;\n",
       "    }\n",
       "</style>\n",
       "<table border=\"1\" class=\"dataframe\">\n",
       "  <thead>\n",
       "    <tr style=\"text-align: right;\">\n",
       "      <th></th>\n",
       "      <th>Australia</th>\n",
       "      <th>Austria</th>\n",
       "      <th>Bahrain</th>\n",
       "      <th>Belgium</th>\n",
       "      <th>Brazil</th>\n",
       "      <th>Canada</th>\n",
       "      <th>Channel Islands</th>\n",
       "      <th>Cyprus</th>\n",
       "      <th>Czech Republic</th>\n",
       "      <th>Denmark</th>\n",
       "      <th>...</th>\n",
       "      <th>Singapore</th>\n",
       "      <th>Spain</th>\n",
       "      <th>Sweden</th>\n",
       "      <th>Switzerland</th>\n",
       "      <th>Thailand</th>\n",
       "      <th>USA</th>\n",
       "      <th>United Arab Emirates</th>\n",
       "      <th>United Kingdom</th>\n",
       "      <th>Unspecified</th>\n",
       "      <th>West Indies</th>\n",
       "    </tr>\n",
       "  </thead>\n",
       "  <tbody>\n",
       "    <tr>\n",
       "      <th>0</th>\n",
       "      <td>0</td>\n",
       "      <td>0</td>\n",
       "      <td>0</td>\n",
       "      <td>0</td>\n",
       "      <td>0</td>\n",
       "      <td>0</td>\n",
       "      <td>0</td>\n",
       "      <td>0</td>\n",
       "      <td>0</td>\n",
       "      <td>0</td>\n",
       "      <td>...</td>\n",
       "      <td>0</td>\n",
       "      <td>0</td>\n",
       "      <td>0</td>\n",
       "      <td>0</td>\n",
       "      <td>0</td>\n",
       "      <td>0</td>\n",
       "      <td>0</td>\n",
       "      <td>1</td>\n",
       "      <td>0</td>\n",
       "      <td>0</td>\n",
       "    </tr>\n",
       "    <tr>\n",
       "      <th>1</th>\n",
       "      <td>0</td>\n",
       "      <td>0</td>\n",
       "      <td>0</td>\n",
       "      <td>0</td>\n",
       "      <td>0</td>\n",
       "      <td>0</td>\n",
       "      <td>0</td>\n",
       "      <td>0</td>\n",
       "      <td>0</td>\n",
       "      <td>0</td>\n",
       "      <td>...</td>\n",
       "      <td>0</td>\n",
       "      <td>0</td>\n",
       "      <td>0</td>\n",
       "      <td>0</td>\n",
       "      <td>0</td>\n",
       "      <td>0</td>\n",
       "      <td>0</td>\n",
       "      <td>0</td>\n",
       "      <td>0</td>\n",
       "      <td>0</td>\n",
       "    </tr>\n",
       "    <tr>\n",
       "      <th>2</th>\n",
       "      <td>0</td>\n",
       "      <td>0</td>\n",
       "      <td>0</td>\n",
       "      <td>0</td>\n",
       "      <td>0</td>\n",
       "      <td>0</td>\n",
       "      <td>0</td>\n",
       "      <td>0</td>\n",
       "      <td>0</td>\n",
       "      <td>0</td>\n",
       "      <td>...</td>\n",
       "      <td>0</td>\n",
       "      <td>0</td>\n",
       "      <td>0</td>\n",
       "      <td>0</td>\n",
       "      <td>0</td>\n",
       "      <td>0</td>\n",
       "      <td>0</td>\n",
       "      <td>0</td>\n",
       "      <td>0</td>\n",
       "      <td>0</td>\n",
       "    </tr>\n",
       "    <tr>\n",
       "      <th>3</th>\n",
       "      <td>0</td>\n",
       "      <td>0</td>\n",
       "      <td>0</td>\n",
       "      <td>0</td>\n",
       "      <td>0</td>\n",
       "      <td>0</td>\n",
       "      <td>0</td>\n",
       "      <td>0</td>\n",
       "      <td>0</td>\n",
       "      <td>0</td>\n",
       "      <td>...</td>\n",
       "      <td>0</td>\n",
       "      <td>0</td>\n",
       "      <td>0</td>\n",
       "      <td>0</td>\n",
       "      <td>0</td>\n",
       "      <td>0</td>\n",
       "      <td>0</td>\n",
       "      <td>0</td>\n",
       "      <td>0</td>\n",
       "      <td>0</td>\n",
       "    </tr>\n",
       "    <tr>\n",
       "      <th>4</th>\n",
       "      <td>0</td>\n",
       "      <td>0</td>\n",
       "      <td>0</td>\n",
       "      <td>0</td>\n",
       "      <td>0</td>\n",
       "      <td>0</td>\n",
       "      <td>0</td>\n",
       "      <td>0</td>\n",
       "      <td>0</td>\n",
       "      <td>0</td>\n",
       "      <td>...</td>\n",
       "      <td>0</td>\n",
       "      <td>0</td>\n",
       "      <td>0</td>\n",
       "      <td>0</td>\n",
       "      <td>0</td>\n",
       "      <td>0</td>\n",
       "      <td>0</td>\n",
       "      <td>0</td>\n",
       "      <td>0</td>\n",
       "      <td>0</td>\n",
       "    </tr>\n",
       "  </tbody>\n",
       "</table>\n",
       "<p>5 rows × 41 columns</p>\n",
       "</div>"
      ],
      "text/plain": [
       "   Australia  Austria  Bahrain  Belgium  Brazil  Canada  Channel Islands  \\\n",
       "0          0        0        0        0       0       0                0   \n",
       "1          0        0        0        0       0       0                0   \n",
       "2          0        0        0        0       0       0                0   \n",
       "3          0        0        0        0       0       0                0   \n",
       "4          0        0        0        0       0       0                0   \n",
       "\n",
       "   Cyprus  Czech Republic  Denmark  ...  Singapore  Spain  Sweden  \\\n",
       "0       0               0        0  ...          0      0       0   \n",
       "1       0               0        0  ...          0      0       0   \n",
       "2       0               0        0  ...          0      0       0   \n",
       "3       0               0        0  ...          0      0       0   \n",
       "4       0               0        0  ...          0      0       0   \n",
       "\n",
       "   Switzerland  Thailand  USA  United Arab Emirates  United Kingdom  \\\n",
       "0            0         0    0                     0               1   \n",
       "1            0         0    0                     0               0   \n",
       "2            0         0    0                     0               0   \n",
       "3            0         0    0                     0               0   \n",
       "4            0         0    0                     0               0   \n",
       "\n",
       "   Unspecified  West Indies  \n",
       "0            0            0  \n",
       "1            0            0  \n",
       "2            0            0  \n",
       "3            0            0  \n",
       "4            0            0  \n",
       "\n",
       "[5 rows x 41 columns]"
      ]
     },
     "execution_count": 46,
     "metadata": {
      "tags": []
     },
     "output_type": "execute_result"
    }
   ],
   "source": [
    "one_hot = pd.get_dummies(train_temp.country)\n",
    "one_hot.head()"
   ]
  },
  {
   "cell_type": "markdown",
   "id": "f3ed4090",
   "metadata": {
    "id": "indie-shower"
   },
   "source": [
    "- label encoding"
   ]
  },
  {
   "cell_type": "code",
   "execution_count": null,
   "id": "f7c74546",
   "metadata": {
    "id": "dirty-supply",
    "outputId": "c77ca5c6-09b1-4475-c639-f4702014611f"
   },
   "outputs": [
    {
     "data": {
      "text/html": [
       "<div>\n",
       "<style scoped>\n",
       "    .dataframe tbody tr th:only-of-type {\n",
       "        vertical-align: middle;\n",
       "    }\n",
       "\n",
       "    .dataframe tbody tr th {\n",
       "        vertical-align: top;\n",
       "    }\n",
       "\n",
       "    .dataframe thead th {\n",
       "        text-align: right;\n",
       "    }\n",
       "</style>\n",
       "<table border=\"1\" class=\"dataframe\">\n",
       "  <thead>\n",
       "    <tr style=\"text-align: right;\">\n",
       "      <th></th>\n",
       "      <th>customer_id</th>\n",
       "      <th>total</th>\n",
       "      <th>quantity</th>\n",
       "      <th>price</th>\n",
       "      <th>country</th>\n",
       "      <th>country_label</th>\n",
       "    </tr>\n",
       "  </thead>\n",
       "  <tbody>\n",
       "    <tr>\n",
       "      <th>0</th>\n",
       "      <td>12346</td>\n",
       "      <td>-85.3710</td>\n",
       "      <td>1.127660</td>\n",
       "      <td>19.922872</td>\n",
       "      <td>United Kingdom</td>\n",
       "      <td>38</td>\n",
       "    </tr>\n",
       "    <tr>\n",
       "      <th>1</th>\n",
       "      <td>12347</td>\n",
       "      <td>7749.5715</td>\n",
       "      <td>13.151659</td>\n",
       "      <td>4.230803</td>\n",
       "      <td>Iceland</td>\n",
       "      <td>16</td>\n",
       "    </tr>\n",
       "    <tr>\n",
       "      <th>2</th>\n",
       "      <td>12348</td>\n",
       "      <td>3332.0100</td>\n",
       "      <td>53.215686</td>\n",
       "      <td>6.247353</td>\n",
       "      <td>Finland</td>\n",
       "      <td>12</td>\n",
       "    </tr>\n",
       "    <tr>\n",
       "      <th>3</th>\n",
       "      <td>12349</td>\n",
       "      <td>7267.4910</td>\n",
       "      <td>8.994444</td>\n",
       "      <td>13.792075</td>\n",
       "      <td>Italy</td>\n",
       "      <td>18</td>\n",
       "    </tr>\n",
       "    <tr>\n",
       "      <th>4</th>\n",
       "      <td>12350</td>\n",
       "      <td>551.7600</td>\n",
       "      <td>11.588235</td>\n",
       "      <td>6.337941</td>\n",
       "      <td>Norway</td>\n",
       "      <td>26</td>\n",
       "    </tr>\n",
       "  </tbody>\n",
       "</table>\n",
       "</div>"
      ],
      "text/plain": [
       "   customer_id      total   quantity      price         country  country_label\n",
       "0        12346   -85.3710   1.127660  19.922872  United Kingdom             38\n",
       "1        12347  7749.5715  13.151659   4.230803         Iceland             16\n",
       "2        12348  3332.0100  53.215686   6.247353         Finland             12\n",
       "3        12349  7267.4910   8.994444  13.792075           Italy             18\n",
       "4        12350   551.7600  11.588235   6.337941          Norway             26"
      ]
     },
     "execution_count": 49,
     "metadata": {
      "tags": []
     },
     "output_type": "execute_result"
    }
   ],
   "source": [
    "label_e = preprocessing.LabelEncoder()\n",
    "label_e.fit(train_temp.country)\n",
    "country_label = label_e.transform(train_temp.country)\n",
    "train_temp['country_label'] = country_label\n",
    "\n",
    "train_temp.head()"
   ]
  },
  {
   "cell_type": "code",
   "execution_count": null,
   "id": "84f68081",
   "metadata": {
    "id": "proprietary-parcel"
   },
   "outputs": [],
   "source": []
  },
  {
   "cell_type": "markdown",
   "id": "63309c6e",
   "metadata": {
    "id": "broadband-tunnel"
   },
   "source": [
    "- freq encoding"
   ]
  },
  {
   "cell_type": "code",
   "execution_count": null,
   "id": "76681bf4",
   "metadata": {
    "id": "protective-laser",
    "outputId": "f5d06128-8c84-4072-b5af-b9af11014081"
   },
   "outputs": [
    {
     "data": {
      "text/plain": [
       "country\n",
       "Australia    0.002536\n",
       "Austria      0.001860\n",
       "Bahrain      0.000338\n",
       "Belgium      0.004565\n",
       "Brazil       0.000338\n",
       "dtype: float64"
      ]
     },
     "execution_count": 69,
     "metadata": {
      "tags": []
     },
     "output_type": "execute_result"
    }
   ],
   "source": [
    "enco = (train_temp.groupby('country').size()) / len(train_temp)\n",
    "enco.head()"
   ]
  },
  {
   "cell_type": "code",
   "execution_count": null,
   "id": "ddc9bdeb",
   "metadata": {
    "id": "lined-referral"
   },
   "outputs": [],
   "source": [
    "train_temp['country_freq_enco'] = train_temp['country'].apply(lambda x : enco[x])\n",
    "train_temp.head()"
   ]
  },
  {
   "cell_type": "markdown",
   "id": "a24cc2a6",
   "metadata": {
    "id": "viral-bobby"
   },
   "source": [
    "- target mean encoding"
   ]
  },
  {
   "cell_type": "code",
   "execution_count": null,
   "id": "878fa20c",
   "metadata": {
    "id": "southern-ethernet",
    "outputId": "9daac9da-acf2-44c1-c32e-453f80005bbe"
   },
   "outputs": [
    {
     "data": {
      "text/plain": [
       "country\n",
       "Australia    18870.12050\n",
       "Austria       3150.69000\n",
       "Bahrain       1117.35525\n",
       "Belgium       3690.60450\n",
       "Brazil        1164.79275\n",
       "Name: total, dtype: float64"
      ]
     },
     "execution_count": 71,
     "metadata": {
      "tags": []
     },
     "output_type": "execute_result"
    }
   ],
   "source": [
    "enco = train_temp.groupby('country').mean()['total']\n",
    "enco.head()"
   ]
  },
  {
   "cell_type": "code",
   "execution_count": null,
   "id": "f59abb6f",
   "metadata": {
    "id": "premier-victory",
    "outputId": "760143eb-ddd6-4ac0-b2c8-a8d9c019f261"
   },
   "outputs": [
    {
     "data": {
      "text/html": [
       "<div>\n",
       "<style scoped>\n",
       "    .dataframe tbody tr th:only-of-type {\n",
       "        vertical-align: middle;\n",
       "    }\n",
       "\n",
       "    .dataframe tbody tr th {\n",
       "        vertical-align: top;\n",
       "    }\n",
       "\n",
       "    .dataframe thead th {\n",
       "        text-align: right;\n",
       "    }\n",
       "</style>\n",
       "<table border=\"1\" class=\"dataframe\">\n",
       "  <thead>\n",
       "    <tr style=\"text-align: right;\">\n",
       "      <th></th>\n",
       "      <th>customer_id</th>\n",
       "      <th>total</th>\n",
       "      <th>quantity</th>\n",
       "      <th>price</th>\n",
       "      <th>country</th>\n",
       "      <th>country_label</th>\n",
       "      <th>country_freq_enco</th>\n",
       "      <th>country_target_mean_enco</th>\n",
       "    </tr>\n",
       "  </thead>\n",
       "  <tbody>\n",
       "    <tr>\n",
       "      <th>0</th>\n",
       "      <td>12346</td>\n",
       "      <td>-85.3710</td>\n",
       "      <td>1.127660</td>\n",
       "      <td>19.922872</td>\n",
       "      <td>United Kingdom</td>\n",
       "      <td>38</td>\n",
       "      <td>0.911228</td>\n",
       "      <td>4037.204056</td>\n",
       "    </tr>\n",
       "    <tr>\n",
       "      <th>1</th>\n",
       "      <td>12347</td>\n",
       "      <td>7749.5715</td>\n",
       "      <td>13.151659</td>\n",
       "      <td>4.230803</td>\n",
       "      <td>Iceland</td>\n",
       "      <td>16</td>\n",
       "      <td>0.000169</td>\n",
       "      <td>7749.571500</td>\n",
       "    </tr>\n",
       "    <tr>\n",
       "      <th>2</th>\n",
       "      <td>12348</td>\n",
       "      <td>3332.0100</td>\n",
       "      <td>53.215686</td>\n",
       "      <td>6.247353</td>\n",
       "      <td>Finland</td>\n",
       "      <td>12</td>\n",
       "      <td>0.002367</td>\n",
       "      <td>3333.444321</td>\n",
       "    </tr>\n",
       "    <tr>\n",
       "      <th>3</th>\n",
       "      <td>12349</td>\n",
       "      <td>7267.4910</td>\n",
       "      <td>8.994444</td>\n",
       "      <td>13.792075</td>\n",
       "      <td>Italy</td>\n",
       "      <td>18</td>\n",
       "      <td>0.002875</td>\n",
       "      <td>2916.971912</td>\n",
       "    </tr>\n",
       "    <tr>\n",
       "      <th>4</th>\n",
       "      <td>12350</td>\n",
       "      <td>551.7600</td>\n",
       "      <td>11.588235</td>\n",
       "      <td>6.337941</td>\n",
       "      <td>Norway</td>\n",
       "      <td>26</td>\n",
       "      <td>0.002198</td>\n",
       "      <td>4146.603577</td>\n",
       "    </tr>\n",
       "  </tbody>\n",
       "</table>\n",
       "</div>"
      ],
      "text/plain": [
       "   customer_id      total   quantity      price         country  \\\n",
       "0        12346   -85.3710   1.127660  19.922872  United Kingdom   \n",
       "1        12347  7749.5715  13.151659   4.230803         Iceland   \n",
       "2        12348  3332.0100  53.215686   6.247353         Finland   \n",
       "3        12349  7267.4910   8.994444  13.792075           Italy   \n",
       "4        12350   551.7600  11.588235   6.337941          Norway   \n",
       "\n",
       "   country_label  country_freq_enco  country_target_mean_enco  \n",
       "0             38           0.911228               4037.204056  \n",
       "1             16           0.000169               7749.571500  \n",
       "2             12           0.002367               3333.444321  \n",
       "3             18           0.002875               2916.971912  \n",
       "4             26           0.002198               4146.603577  "
      ]
     },
     "execution_count": 72,
     "metadata": {
      "tags": []
     },
     "output_type": "execute_result"
    }
   ],
   "source": [
    "train_temp['country_target_mean_enco'] = train_temp['country'].apply(lambda x : enco[x])\n",
    "train_temp.head()"
   ]
  },
  {
   "cell_type": "markdown",
   "id": "ab1be090",
   "metadata": {
    "id": "acting-adolescent"
   },
   "source": [
    "- entity embedding \n",
    "\n",
    "이 경우는 사실상, 딥러닝 방법을 이용한 embedding이라고 할 수 있습니다. \\\n",
    "일반적인 범주형의 자료의 경우 이렇게 embedding을 해줄 순 없지만 \\\n",
    "자연어의 경우 종종 word2vec을 이용하여 feature engineering을 하곤 합니다.\n",
    "\n",
    "\n"
   ]
  },
  {
   "cell_type": "code",
   "execution_count": null,
   "id": "3d9c866a",
   "metadata": {
    "id": "flying-facing"
   },
   "outputs": [],
   "source": [
    "def word2vec_feature(prefix, data_input, groupby, target,size):\n",
    "    df = data_input.copy()\n",
    "    \n",
    "    df_bag = pd.DataFrame(df[[groupby, target]])\n",
    "    df_bag[target] = df_bag[target].astype(str)\n",
    "    df_bag[target].fillna('NAN', inplace=True)\n",
    "    df_bag = df_bag.groupby(groupby, as_index=False)[target].agg({'list':(lambda x: list(x))}).reset_index()\n",
    "    doc_list = list(df_bag['list'].values)\n",
    "    w2v = Word2Vec(doc_list, size=size, window=3, min_count=1, workers=32)\n",
    "    vocab_keys = list(w2v.wv.vocab.keys())\n",
    "    w2v_array = []\n",
    "    for v in vocab_keys :\n",
    "        w2v_array.append(list(w2v.wv[v]))\n",
    "    df_w2v = pd.DataFrame()\n",
    "    df_w2v['vocab_keys'] = vocab_keys    \n",
    "    df_w2v = pd.concat([df_w2v, pd.DataFrame(w2v_array)], axis=1)\n",
    "    df_w2v.columns = [target] + ['w2v_%s_%s_%d'%(prefix,target,x) for x in range(size)]\n",
    "    print ('df_w2v:' + str(df_w2v.shape))\n",
    "    return df_w2v"
   ]
  },
  {
   "cell_type": "code",
   "execution_count": null,
   "id": "a32356e5",
   "metadata": {
    "id": "saving-dylan",
    "outputId": "12df490e-7bf1-4507-cb72-a1e2d2db895b"
   },
   "outputs": [
    {
     "name": "stdout",
     "output_type": "stream",
     "text": [
      "df_w2v:(5297, 101)\n"
     ]
    }
   ],
   "source": [
    "word2vec_fe = word2vec_feature(\"description\", train, \"customer_id\", \"description\",100)"
   ]
  },
  {
   "cell_type": "code",
   "execution_count": null,
   "id": "149094e1",
   "metadata": {
    "id": "alpine-plane",
    "outputId": "619ecd31-6d01-400d-cdb4-69c7972837da"
   },
   "outputs": [
    {
     "data": {
      "text/html": [
       "<div>\n",
       "<style scoped>\n",
       "    .dataframe tbody tr th:only-of-type {\n",
       "        vertical-align: middle;\n",
       "    }\n",
       "\n",
       "    .dataframe tbody tr th {\n",
       "        vertical-align: top;\n",
       "    }\n",
       "\n",
       "    .dataframe thead th {\n",
       "        text-align: right;\n",
       "    }\n",
       "</style>\n",
       "<table border=\"1\" class=\"dataframe\">\n",
       "  <thead>\n",
       "    <tr style=\"text-align: right;\">\n",
       "      <th></th>\n",
       "      <th>description</th>\n",
       "      <th>w2v_description_description_0</th>\n",
       "      <th>w2v_description_description_1</th>\n",
       "      <th>w2v_description_description_2</th>\n",
       "      <th>w2v_description_description_3</th>\n",
       "      <th>w2v_description_description_4</th>\n",
       "      <th>w2v_description_description_5</th>\n",
       "      <th>w2v_description_description_6</th>\n",
       "      <th>w2v_description_description_7</th>\n",
       "      <th>w2v_description_description_8</th>\n",
       "      <th>...</th>\n",
       "      <th>w2v_description_description_90</th>\n",
       "      <th>w2v_description_description_91</th>\n",
       "      <th>w2v_description_description_92</th>\n",
       "      <th>w2v_description_description_93</th>\n",
       "      <th>w2v_description_description_94</th>\n",
       "      <th>w2v_description_description_95</th>\n",
       "      <th>w2v_description_description_96</th>\n",
       "      <th>w2v_description_description_97</th>\n",
       "      <th>w2v_description_description_98</th>\n",
       "      <th>w2v_description_description_99</th>\n",
       "    </tr>\n",
       "  </thead>\n",
       "  <tbody>\n",
       "    <tr>\n",
       "      <th>0</th>\n",
       "      <td>This is a test product.</td>\n",
       "      <td>-0.079012</td>\n",
       "      <td>-0.153927</td>\n",
       "      <td>-0.164358</td>\n",
       "      <td>0.054620</td>\n",
       "      <td>0.079462</td>\n",
       "      <td>-0.044636</td>\n",
       "      <td>0.198637</td>\n",
       "      <td>-0.149399</td>\n",
       "      <td>0.202924</td>\n",
       "      <td>...</td>\n",
       "      <td>0.102139</td>\n",
       "      <td>-0.075586</td>\n",
       "      <td>-0.039325</td>\n",
       "      <td>-0.167144</td>\n",
       "      <td>-0.177978</td>\n",
       "      <td>0.055736</td>\n",
       "      <td>0.035022</td>\n",
       "      <td>-0.042003</td>\n",
       "      <td>0.098856</td>\n",
       "      <td>0.024493</td>\n",
       "    </tr>\n",
       "    <tr>\n",
       "      <th>1</th>\n",
       "      <td>Adjustment by john on 26/01/2010 17</td>\n",
       "      <td>-0.069072</td>\n",
       "      <td>-0.143418</td>\n",
       "      <td>-0.200231</td>\n",
       "      <td>0.034310</td>\n",
       "      <td>0.055376</td>\n",
       "      <td>0.077514</td>\n",
       "      <td>0.137716</td>\n",
       "      <td>-0.134774</td>\n",
       "      <td>0.191424</td>\n",
       "      <td>...</td>\n",
       "      <td>0.188690</td>\n",
       "      <td>-0.101148</td>\n",
       "      <td>-0.077168</td>\n",
       "      <td>0.009008</td>\n",
       "      <td>-0.189574</td>\n",
       "      <td>-0.020753</td>\n",
       "      <td>0.009838</td>\n",
       "      <td>-0.012251</td>\n",
       "      <td>0.199489</td>\n",
       "      <td>0.048534</td>\n",
       "    </tr>\n",
       "    <tr>\n",
       "      <th>2</th>\n",
       "      <td>RED SPOTTY CHILDS UMBRELLA</td>\n",
       "      <td>0.147139</td>\n",
       "      <td>0.485030</td>\n",
       "      <td>-1.142879</td>\n",
       "      <td>0.651336</td>\n",
       "      <td>-0.509549</td>\n",
       "      <td>1.178234</td>\n",
       "      <td>0.109885</td>\n",
       "      <td>-0.393227</td>\n",
       "      <td>0.925784</td>\n",
       "      <td>...</td>\n",
       "      <td>0.435253</td>\n",
       "      <td>-0.059131</td>\n",
       "      <td>-0.408315</td>\n",
       "      <td>-0.640852</td>\n",
       "      <td>-1.293867</td>\n",
       "      <td>-1.305476</td>\n",
       "      <td>0.242099</td>\n",
       "      <td>0.557116</td>\n",
       "      <td>0.213262</td>\n",
       "      <td>-0.125653</td>\n",
       "    </tr>\n",
       "    <tr>\n",
       "      <th>3</th>\n",
       "      <td>EDWARDIAN PARASOL RED</td>\n",
       "      <td>0.027657</td>\n",
       "      <td>0.560768</td>\n",
       "      <td>-0.882068</td>\n",
       "      <td>-0.395421</td>\n",
       "      <td>0.593578</td>\n",
       "      <td>0.775380</td>\n",
       "      <td>1.144088</td>\n",
       "      <td>-0.982469</td>\n",
       "      <td>0.309377</td>\n",
       "      <td>...</td>\n",
       "      <td>-0.103258</td>\n",
       "      <td>-0.007982</td>\n",
       "      <td>-0.506846</td>\n",
       "      <td>-0.866705</td>\n",
       "      <td>-1.509634</td>\n",
       "      <td>-0.911753</td>\n",
       "      <td>0.443423</td>\n",
       "      <td>0.884790</td>\n",
       "      <td>-0.296102</td>\n",
       "      <td>-0.886319</td>\n",
       "    </tr>\n",
       "    <tr>\n",
       "      <th>4</th>\n",
       "      <td>EDWARDIAN PARASOL NATURAL</td>\n",
       "      <td>-0.156991</td>\n",
       "      <td>0.530462</td>\n",
       "      <td>-0.372302</td>\n",
       "      <td>-0.365466</td>\n",
       "      <td>1.064570</td>\n",
       "      <td>0.639933</td>\n",
       "      <td>1.043651</td>\n",
       "      <td>-0.788582</td>\n",
       "      <td>0.195543</td>\n",
       "      <td>...</td>\n",
       "      <td>-0.032186</td>\n",
       "      <td>0.125515</td>\n",
       "      <td>-0.541181</td>\n",
       "      <td>-0.723000</td>\n",
       "      <td>-1.980142</td>\n",
       "      <td>-1.285715</td>\n",
       "      <td>0.233360</td>\n",
       "      <td>0.969242</td>\n",
       "      <td>0.014823</td>\n",
       "      <td>-1.507700</td>\n",
       "    </tr>\n",
       "    <tr>\n",
       "      <th>...</th>\n",
       "      <td>...</td>\n",
       "      <td>...</td>\n",
       "      <td>...</td>\n",
       "      <td>...</td>\n",
       "      <td>...</td>\n",
       "      <td>...</td>\n",
       "      <td>...</td>\n",
       "      <td>...</td>\n",
       "      <td>...</td>\n",
       "      <td>...</td>\n",
       "      <td>...</td>\n",
       "      <td>...</td>\n",
       "      <td>...</td>\n",
       "      <td>...</td>\n",
       "      <td>...</td>\n",
       "      <td>...</td>\n",
       "      <td>...</td>\n",
       "      <td>...</td>\n",
       "      <td>...</td>\n",
       "      <td>...</td>\n",
       "      <td>...</td>\n",
       "    </tr>\n",
       "    <tr>\n",
       "      <th>5292</th>\n",
       "      <td>ENGLISH ROSE EDWARDIAN PARASOL</td>\n",
       "      <td>-0.012392</td>\n",
       "      <td>-0.009433</td>\n",
       "      <td>-0.017658</td>\n",
       "      <td>-0.002199</td>\n",
       "      <td>0.016233</td>\n",
       "      <td>0.006777</td>\n",
       "      <td>0.025238</td>\n",
       "      <td>-0.025903</td>\n",
       "      <td>0.011186</td>\n",
       "      <td>...</td>\n",
       "      <td>0.007109</td>\n",
       "      <td>-0.008582</td>\n",
       "      <td>-0.011811</td>\n",
       "      <td>-0.004331</td>\n",
       "      <td>-0.026809</td>\n",
       "      <td>-0.013336</td>\n",
       "      <td>0.004026</td>\n",
       "      <td>-0.002636</td>\n",
       "      <td>0.019395</td>\n",
       "      <td>-0.005454</td>\n",
       "    </tr>\n",
       "    <tr>\n",
       "      <th>5293</th>\n",
       "      <td>DOOR MAT CAMOUFLAGE</td>\n",
       "      <td>0.007110</td>\n",
       "      <td>-0.007193</td>\n",
       "      <td>-0.010327</td>\n",
       "      <td>-0.000704</td>\n",
       "      <td>0.006102</td>\n",
       "      <td>0.011456</td>\n",
       "      <td>0.019388</td>\n",
       "      <td>-0.009445</td>\n",
       "      <td>0.005865</td>\n",
       "      <td>...</td>\n",
       "      <td>0.007912</td>\n",
       "      <td>-0.010563</td>\n",
       "      <td>-0.000233</td>\n",
       "      <td>-0.000110</td>\n",
       "      <td>-0.010407</td>\n",
       "      <td>-0.006919</td>\n",
       "      <td>-0.003059</td>\n",
       "      <td>0.000629</td>\n",
       "      <td>0.013914</td>\n",
       "      <td>-0.006204</td>\n",
       "    </tr>\n",
       "    <tr>\n",
       "      <th>5294</th>\n",
       "      <td>MIRROR, ARCHED GEORGIAN</td>\n",
       "      <td>-0.012356</td>\n",
       "      <td>-0.024604</td>\n",
       "      <td>-0.009711</td>\n",
       "      <td>-0.006389</td>\n",
       "      <td>0.016269</td>\n",
       "      <td>0.010287</td>\n",
       "      <td>0.003559</td>\n",
       "      <td>-0.013624</td>\n",
       "      <td>0.009150</td>\n",
       "      <td>...</td>\n",
       "      <td>-0.000590</td>\n",
       "      <td>-0.004299</td>\n",
       "      <td>0.002033</td>\n",
       "      <td>0.010699</td>\n",
       "      <td>-0.007850</td>\n",
       "      <td>-0.005326</td>\n",
       "      <td>-0.009993</td>\n",
       "      <td>-0.003324</td>\n",
       "      <td>0.013772</td>\n",
       "      <td>0.008647</td>\n",
       "    </tr>\n",
       "    <tr>\n",
       "      <th>5295</th>\n",
       "      <td>CAT WITH SUNGLASSES BLANK CARD</td>\n",
       "      <td>-0.008595</td>\n",
       "      <td>0.018476</td>\n",
       "      <td>-0.028525</td>\n",
       "      <td>-0.000240</td>\n",
       "      <td>-0.005163</td>\n",
       "      <td>-0.005377</td>\n",
       "      <td>0.015024</td>\n",
       "      <td>-0.018120</td>\n",
       "      <td>0.008195</td>\n",
       "      <td>...</td>\n",
       "      <td>-0.002281</td>\n",
       "      <td>-0.000379</td>\n",
       "      <td>-0.001369</td>\n",
       "      <td>-0.016192</td>\n",
       "      <td>-0.005100</td>\n",
       "      <td>-0.016106</td>\n",
       "      <td>0.005040</td>\n",
       "      <td>-0.019714</td>\n",
       "      <td>-0.006440</td>\n",
       "      <td>-0.002746</td>\n",
       "    </tr>\n",
       "    <tr>\n",
       "      <th>5296</th>\n",
       "      <td>BROWN COZY SQUARE PHOTO ALBUM</td>\n",
       "      <td>-0.008551</td>\n",
       "      <td>-0.023010</td>\n",
       "      <td>-0.005479</td>\n",
       "      <td>-0.003850</td>\n",
       "      <td>0.017935</td>\n",
       "      <td>-0.002014</td>\n",
       "      <td>0.028099</td>\n",
       "      <td>-0.022312</td>\n",
       "      <td>0.018639</td>\n",
       "      <td>...</td>\n",
       "      <td>0.007655</td>\n",
       "      <td>-0.013655</td>\n",
       "      <td>-0.007316</td>\n",
       "      <td>-0.007201</td>\n",
       "      <td>-0.021175</td>\n",
       "      <td>0.011414</td>\n",
       "      <td>0.002039</td>\n",
       "      <td>-0.014115</td>\n",
       "      <td>0.023707</td>\n",
       "      <td>-0.000137</td>\n",
       "    </tr>\n",
       "  </tbody>\n",
       "</table>\n",
       "<p>5297 rows × 101 columns</p>\n",
       "</div>"
      ],
      "text/plain": [
       "                              description  w2v_description_description_0  \\\n",
       "0                 This is a test product.                      -0.079012   \n",
       "1     Adjustment by john on 26/01/2010 17                      -0.069072   \n",
       "2              RED SPOTTY CHILDS UMBRELLA                       0.147139   \n",
       "3                   EDWARDIAN PARASOL RED                       0.027657   \n",
       "4               EDWARDIAN PARASOL NATURAL                      -0.156991   \n",
       "...                                   ...                            ...   \n",
       "5292       ENGLISH ROSE EDWARDIAN PARASOL                      -0.012392   \n",
       "5293                  DOOR MAT CAMOUFLAGE                       0.007110   \n",
       "5294              MIRROR, ARCHED GEORGIAN                      -0.012356   \n",
       "5295       CAT WITH SUNGLASSES BLANK CARD                      -0.008595   \n",
       "5296        BROWN COZY SQUARE PHOTO ALBUM                      -0.008551   \n",
       "\n",
       "      w2v_description_description_1  w2v_description_description_2  \\\n",
       "0                         -0.153927                      -0.164358   \n",
       "1                         -0.143418                      -0.200231   \n",
       "2                          0.485030                      -1.142879   \n",
       "3                          0.560768                      -0.882068   \n",
       "4                          0.530462                      -0.372302   \n",
       "...                             ...                            ...   \n",
       "5292                      -0.009433                      -0.017658   \n",
       "5293                      -0.007193                      -0.010327   \n",
       "5294                      -0.024604                      -0.009711   \n",
       "5295                       0.018476                      -0.028525   \n",
       "5296                      -0.023010                      -0.005479   \n",
       "\n",
       "      w2v_description_description_3  w2v_description_description_4  \\\n",
       "0                          0.054620                       0.079462   \n",
       "1                          0.034310                       0.055376   \n",
       "2                          0.651336                      -0.509549   \n",
       "3                         -0.395421                       0.593578   \n",
       "4                         -0.365466                       1.064570   \n",
       "...                             ...                            ...   \n",
       "5292                      -0.002199                       0.016233   \n",
       "5293                      -0.000704                       0.006102   \n",
       "5294                      -0.006389                       0.016269   \n",
       "5295                      -0.000240                      -0.005163   \n",
       "5296                      -0.003850                       0.017935   \n",
       "\n",
       "      w2v_description_description_5  w2v_description_description_6  \\\n",
       "0                         -0.044636                       0.198637   \n",
       "1                          0.077514                       0.137716   \n",
       "2                          1.178234                       0.109885   \n",
       "3                          0.775380                       1.144088   \n",
       "4                          0.639933                       1.043651   \n",
       "...                             ...                            ...   \n",
       "5292                       0.006777                       0.025238   \n",
       "5293                       0.011456                       0.019388   \n",
       "5294                       0.010287                       0.003559   \n",
       "5295                      -0.005377                       0.015024   \n",
       "5296                      -0.002014                       0.028099   \n",
       "\n",
       "      w2v_description_description_7  w2v_description_description_8  ...  \\\n",
       "0                         -0.149399                       0.202924  ...   \n",
       "1                         -0.134774                       0.191424  ...   \n",
       "2                         -0.393227                       0.925784  ...   \n",
       "3                         -0.982469                       0.309377  ...   \n",
       "4                         -0.788582                       0.195543  ...   \n",
       "...                             ...                            ...  ...   \n",
       "5292                      -0.025903                       0.011186  ...   \n",
       "5293                      -0.009445                       0.005865  ...   \n",
       "5294                      -0.013624                       0.009150  ...   \n",
       "5295                      -0.018120                       0.008195  ...   \n",
       "5296                      -0.022312                       0.018639  ...   \n",
       "\n",
       "      w2v_description_description_90  w2v_description_description_91  \\\n",
       "0                           0.102139                       -0.075586   \n",
       "1                           0.188690                       -0.101148   \n",
       "2                           0.435253                       -0.059131   \n",
       "3                          -0.103258                       -0.007982   \n",
       "4                          -0.032186                        0.125515   \n",
       "...                              ...                             ...   \n",
       "5292                        0.007109                       -0.008582   \n",
       "5293                        0.007912                       -0.010563   \n",
       "5294                       -0.000590                       -0.004299   \n",
       "5295                       -0.002281                       -0.000379   \n",
       "5296                        0.007655                       -0.013655   \n",
       "\n",
       "      w2v_description_description_92  w2v_description_description_93  \\\n",
       "0                          -0.039325                       -0.167144   \n",
       "1                          -0.077168                        0.009008   \n",
       "2                          -0.408315                       -0.640852   \n",
       "3                          -0.506846                       -0.866705   \n",
       "4                          -0.541181                       -0.723000   \n",
       "...                              ...                             ...   \n",
       "5292                       -0.011811                       -0.004331   \n",
       "5293                       -0.000233                       -0.000110   \n",
       "5294                        0.002033                        0.010699   \n",
       "5295                       -0.001369                       -0.016192   \n",
       "5296                       -0.007316                       -0.007201   \n",
       "\n",
       "      w2v_description_description_94  w2v_description_description_95  \\\n",
       "0                          -0.177978                        0.055736   \n",
       "1                          -0.189574                       -0.020753   \n",
       "2                          -1.293867                       -1.305476   \n",
       "3                          -1.509634                       -0.911753   \n",
       "4                          -1.980142                       -1.285715   \n",
       "...                              ...                             ...   \n",
       "5292                       -0.026809                       -0.013336   \n",
       "5293                       -0.010407                       -0.006919   \n",
       "5294                       -0.007850                       -0.005326   \n",
       "5295                       -0.005100                       -0.016106   \n",
       "5296                       -0.021175                        0.011414   \n",
       "\n",
       "      w2v_description_description_96  w2v_description_description_97  \\\n",
       "0                           0.035022                       -0.042003   \n",
       "1                           0.009838                       -0.012251   \n",
       "2                           0.242099                        0.557116   \n",
       "3                           0.443423                        0.884790   \n",
       "4                           0.233360                        0.969242   \n",
       "...                              ...                             ...   \n",
       "5292                        0.004026                       -0.002636   \n",
       "5293                       -0.003059                        0.000629   \n",
       "5294                       -0.009993                       -0.003324   \n",
       "5295                        0.005040                       -0.019714   \n",
       "5296                        0.002039                       -0.014115   \n",
       "\n",
       "      w2v_description_description_98  w2v_description_description_99  \n",
       "0                           0.098856                        0.024493  \n",
       "1                           0.199489                        0.048534  \n",
       "2                           0.213262                       -0.125653  \n",
       "3                          -0.296102                       -0.886319  \n",
       "4                           0.014823                       -1.507700  \n",
       "...                              ...                             ...  \n",
       "5292                        0.019395                       -0.005454  \n",
       "5293                        0.013914                       -0.006204  \n",
       "5294                        0.013772                        0.008647  \n",
       "5295                       -0.006440                       -0.002746  \n",
       "5296                        0.023707                       -0.000137  \n",
       "\n",
       "[5297 rows x 101 columns]"
      ]
     },
     "execution_count": 111,
     "metadata": {
      "tags": []
     },
     "output_type": "execute_result"
    }
   ],
   "source": [
    "word2vec_fe"
   ]
  },
  {
   "cell_type": "code",
   "execution_count": null,
   "id": "ddd739c0",
   "metadata": {
    "id": "returning-parent"
   },
   "outputs": [],
   "source": [
    "train_word = pd.merge(train, word2vec_fe, on='description', how='left')"
   ]
  },
  {
   "cell_type": "code",
   "execution_count": null,
   "id": "2ebbc901",
   "metadata": {
    "id": "false-uncertainty",
    "outputId": "eacef638-058e-4996-ab36-c64d6065a24a"
   },
   "outputs": [
    {
     "data": {
      "text/html": [
       "<div>\n",
       "<style scoped>\n",
       "    .dataframe tbody tr th:only-of-type {\n",
       "        vertical-align: middle;\n",
       "    }\n",
       "\n",
       "    .dataframe tbody tr th {\n",
       "        vertical-align: top;\n",
       "    }\n",
       "\n",
       "    .dataframe thead th {\n",
       "        text-align: right;\n",
       "    }\n",
       "</style>\n",
       "<table border=\"1\" class=\"dataframe\">\n",
       "  <thead>\n",
       "    <tr style=\"text-align: right;\">\n",
       "      <th></th>\n",
       "      <th>order_id</th>\n",
       "      <th>product_id</th>\n",
       "      <th>description</th>\n",
       "      <th>quantity</th>\n",
       "      <th>order_date</th>\n",
       "      <th>price</th>\n",
       "      <th>customer_id</th>\n",
       "      <th>country</th>\n",
       "      <th>total</th>\n",
       "      <th>w2v_description_description_0</th>\n",
       "      <th>...</th>\n",
       "      <th>w2v_description_description_90</th>\n",
       "      <th>w2v_description_description_91</th>\n",
       "      <th>w2v_description_description_92</th>\n",
       "      <th>w2v_description_description_93</th>\n",
       "      <th>w2v_description_description_94</th>\n",
       "      <th>w2v_description_description_95</th>\n",
       "      <th>w2v_description_description_96</th>\n",
       "      <th>w2v_description_description_97</th>\n",
       "      <th>w2v_description_description_98</th>\n",
       "      <th>w2v_description_description_99</th>\n",
       "    </tr>\n",
       "  </thead>\n",
       "  <tbody>\n",
       "    <tr>\n",
       "      <th>0</th>\n",
       "      <td>489434</td>\n",
       "      <td>85048</td>\n",
       "      <td>15CM CHRISTMAS GLASS BALL 20 LIGHTS</td>\n",
       "      <td>12</td>\n",
       "      <td>2009-12-01 07:45:00</td>\n",
       "      <td>11.4675</td>\n",
       "      <td>13085</td>\n",
       "      <td>United Kingdom</td>\n",
       "      <td>137.61</td>\n",
       "      <td>0.333221</td>\n",
       "      <td>...</td>\n",
       "      <td>-0.436650</td>\n",
       "      <td>-0.168822</td>\n",
       "      <td>0.216172</td>\n",
       "      <td>0.679230</td>\n",
       "      <td>0.457442</td>\n",
       "      <td>0.180423</td>\n",
       "      <td>-0.151523</td>\n",
       "      <td>-0.949666</td>\n",
       "      <td>0.588544</td>\n",
       "      <td>0.485132</td>\n",
       "    </tr>\n",
       "    <tr>\n",
       "      <th>1</th>\n",
       "      <td>489434</td>\n",
       "      <td>79323P</td>\n",
       "      <td>PINK CHERRY LIGHTS</td>\n",
       "      <td>12</td>\n",
       "      <td>2009-12-01 07:45:00</td>\n",
       "      <td>11.1375</td>\n",
       "      <td>13085</td>\n",
       "      <td>United Kingdom</td>\n",
       "      <td>133.65</td>\n",
       "      <td>0.082676</td>\n",
       "      <td>...</td>\n",
       "      <td>1.257117</td>\n",
       "      <td>-0.515209</td>\n",
       "      <td>-0.452327</td>\n",
       "      <td>0.510732</td>\n",
       "      <td>-0.599533</td>\n",
       "      <td>-0.864924</td>\n",
       "      <td>-0.007566</td>\n",
       "      <td>1.016624</td>\n",
       "      <td>0.903962</td>\n",
       "      <td>-0.367131</td>\n",
       "    </tr>\n",
       "    <tr>\n",
       "      <th>2</th>\n",
       "      <td>489434</td>\n",
       "      <td>79323W</td>\n",
       "      <td>WHITE CHERRY LIGHTS</td>\n",
       "      <td>12</td>\n",
       "      <td>2009-12-01 07:45:00</td>\n",
       "      <td>11.1375</td>\n",
       "      <td>13085</td>\n",
       "      <td>United Kingdom</td>\n",
       "      <td>133.65</td>\n",
       "      <td>0.307686</td>\n",
       "      <td>...</td>\n",
       "      <td>0.969259</td>\n",
       "      <td>-0.439085</td>\n",
       "      <td>-0.201471</td>\n",
       "      <td>0.362776</td>\n",
       "      <td>-0.467901</td>\n",
       "      <td>-0.808777</td>\n",
       "      <td>-0.189431</td>\n",
       "      <td>0.798987</td>\n",
       "      <td>0.761491</td>\n",
       "      <td>-0.126750</td>\n",
       "    </tr>\n",
       "    <tr>\n",
       "      <th>3</th>\n",
       "      <td>489434</td>\n",
       "      <td>22041</td>\n",
       "      <td>RECORD FRAME 7\" SINGLE SIZE</td>\n",
       "      <td>48</td>\n",
       "      <td>2009-12-01 07:45:00</td>\n",
       "      <td>3.4650</td>\n",
       "      <td>13085</td>\n",
       "      <td>United Kingdom</td>\n",
       "      <td>166.32</td>\n",
       "      <td>0.152825</td>\n",
       "      <td>...</td>\n",
       "      <td>0.443547</td>\n",
       "      <td>-0.484335</td>\n",
       "      <td>-0.013774</td>\n",
       "      <td>-0.223255</td>\n",
       "      <td>-0.159346</td>\n",
       "      <td>-0.896956</td>\n",
       "      <td>-0.487527</td>\n",
       "      <td>-0.092392</td>\n",
       "      <td>-0.135926</td>\n",
       "      <td>0.700965</td>\n",
       "    </tr>\n",
       "    <tr>\n",
       "      <th>4</th>\n",
       "      <td>489434</td>\n",
       "      <td>21232</td>\n",
       "      <td>STRAWBERRY CERAMIC TRINKET BOX</td>\n",
       "      <td>24</td>\n",
       "      <td>2009-12-01 07:45:00</td>\n",
       "      <td>2.0625</td>\n",
       "      <td>13085</td>\n",
       "      <td>United Kingdom</td>\n",
       "      <td>49.50</td>\n",
       "      <td>-0.309757</td>\n",
       "      <td>...</td>\n",
       "      <td>0.614234</td>\n",
       "      <td>0.263023</td>\n",
       "      <td>-0.874449</td>\n",
       "      <td>-0.760344</td>\n",
       "      <td>-1.798656</td>\n",
       "      <td>1.214319</td>\n",
       "      <td>0.145522</td>\n",
       "      <td>-1.232567</td>\n",
       "      <td>1.019163</td>\n",
       "      <td>0.138278</td>\n",
       "    </tr>\n",
       "  </tbody>\n",
       "</table>\n",
       "<p>5 rows × 109 columns</p>\n",
       "</div>"
      ],
      "text/plain": [
       "  order_id product_id                          description  quantity  \\\n",
       "0   489434      85048  15CM CHRISTMAS GLASS BALL 20 LIGHTS        12   \n",
       "1   489434     79323P                   PINK CHERRY LIGHTS        12   \n",
       "2   489434     79323W                  WHITE CHERRY LIGHTS        12   \n",
       "3   489434      22041         RECORD FRAME 7\" SINGLE SIZE         48   \n",
       "4   489434      21232       STRAWBERRY CERAMIC TRINKET BOX        24   \n",
       "\n",
       "            order_date    price  customer_id         country   total  \\\n",
       "0  2009-12-01 07:45:00  11.4675        13085  United Kingdom  137.61   \n",
       "1  2009-12-01 07:45:00  11.1375        13085  United Kingdom  133.65   \n",
       "2  2009-12-01 07:45:00  11.1375        13085  United Kingdom  133.65   \n",
       "3  2009-12-01 07:45:00   3.4650        13085  United Kingdom  166.32   \n",
       "4  2009-12-01 07:45:00   2.0625        13085  United Kingdom   49.50   \n",
       "\n",
       "   w2v_description_description_0  ...  w2v_description_description_90  \\\n",
       "0                       0.333221  ...                       -0.436650   \n",
       "1                       0.082676  ...                        1.257117   \n",
       "2                       0.307686  ...                        0.969259   \n",
       "3                       0.152825  ...                        0.443547   \n",
       "4                      -0.309757  ...                        0.614234   \n",
       "\n",
       "   w2v_description_description_91  w2v_description_description_92  \\\n",
       "0                       -0.168822                        0.216172   \n",
       "1                       -0.515209                       -0.452327   \n",
       "2                       -0.439085                       -0.201471   \n",
       "3                       -0.484335                       -0.013774   \n",
       "4                        0.263023                       -0.874449   \n",
       "\n",
       "   w2v_description_description_93  w2v_description_description_94  \\\n",
       "0                        0.679230                        0.457442   \n",
       "1                        0.510732                       -0.599533   \n",
       "2                        0.362776                       -0.467901   \n",
       "3                       -0.223255                       -0.159346   \n",
       "4                       -0.760344                       -1.798656   \n",
       "\n",
       "   w2v_description_description_95  w2v_description_description_96  \\\n",
       "0                        0.180423                       -0.151523   \n",
       "1                       -0.864924                       -0.007566   \n",
       "2                       -0.808777                       -0.189431   \n",
       "3                       -0.896956                       -0.487527   \n",
       "4                        1.214319                        0.145522   \n",
       "\n",
       "   w2v_description_description_97  w2v_description_description_98  \\\n",
       "0                       -0.949666                        0.588544   \n",
       "1                        1.016624                        0.903962   \n",
       "2                        0.798987                        0.761491   \n",
       "3                       -0.092392                       -0.135926   \n",
       "4                       -1.232567                        1.019163   \n",
       "\n",
       "   w2v_description_description_99  \n",
       "0                        0.485132  \n",
       "1                       -0.367131  \n",
       "2                       -0.126750  \n",
       "3                        0.700965  \n",
       "4                        0.138278  \n",
       "\n",
       "[5 rows x 109 columns]"
      ]
     },
     "execution_count": 113,
     "metadata": {
      "tags": []
     },
     "output_type": "execute_result"
    }
   ],
   "source": [
    "train_word.head()"
   ]
  },
  {
   "cell_type": "markdown",
   "id": "a4861536",
   "metadata": {
    "id": "protected-external"
   },
   "source": [
    "저희가 사용하는 Data와 유사한 Data를 이용하여 competition을 진행한 kaggle competiton입니다. \\\n",
    "대회명은 elo merchant입니다.\n",
    "\n",
    "https://www.kaggle.com/c/elo-merchant-category-recommendation/discussion/82055"
   ]
  },
  {
   "cell_type": "markdown",
   "id": "72f1a5a5",
   "metadata": {
    "id": "silent-found"
   },
   "source": [
    "# 2. Missing values"
   ]
  },
  {
   "cell_type": "code",
   "execution_count": null,
   "id": "e1b96dcd",
   "metadata": {
    "id": "supported-treasury"
   },
   "outputs": [],
   "source": [
    "def generate_missing(Data_input, ratio=0.1):\n",
    "    df_temp = Data_input.copy()\n",
    "    \n",
    "    df_temp = df.copy()\n",
    "\n",
    "    replaced = collections.defaultdict(set)\n",
    "    ix = [(row, col) for row in range(df_temp.shape[0]) for col in range(df_temp.shape[1])]\n",
    "    random.shuffle(ix)\n",
    "    to_replace = int(round(ratio*len(ix)))\n",
    "    for row, col in ix:\n",
    "        if len(replaced[row]) < df_temp.shape[1] - 1:\n",
    "            df_temp.iloc[row, col] = np.nan\n",
    "            to_replace -= 1\n",
    "            replaced[row].add(col)\n",
    "            if to_replace == 0:\n",
    "                break\n",
    "                \n",
    "    return df_temp"
   ]
  },
  {
   "cell_type": "code",
   "execution_count": null,
   "id": "05ab2465",
   "metadata": {
    "id": "opened-modern",
    "outputId": "3c8b516b-d1de-426b-dbaa-0d46eeaacad2"
   },
   "outputs": [
    {
     "data": {
      "text/plain": [
       "CRIM       0.110672\n",
       "ZN         0.098814\n",
       "INDUS      0.100791\n",
       "CHAS       0.110672\n",
       "NOX        0.092885\n",
       "RM         0.126482\n",
       "AGE        0.083004\n",
       "DIS        0.116601\n",
       "RAD        0.126482\n",
       "TAX        0.086957\n",
       "PTRATIO    0.077075\n",
       "B          0.090909\n",
       "LSTAT      0.079051\n",
       "dtype: float64"
      ]
     },
     "execution_count": 95,
     "metadata": {
      "tags": []
     },
     "output_type": "execute_result"
    }
   ],
   "source": [
    "df_temp = generate_missing(df, ratio=0.1)\n",
    "df_temp.isnull().sum() / len(df_temp)"
   ]
  },
  {
   "cell_type": "markdown",
   "id": "b8fe4bb8",
   "metadata": {
    "id": "provincial-certificate"
   },
   "source": [
    "- regression"
   ]
  },
  {
   "cell_type": "code",
   "execution_count": null,
   "id": "3fbe4e67",
   "metadata": {
    "id": "processed-saint"
   },
   "outputs": [],
   "source": [
    "from sklearn.experimental import enable_iterative_imputer\n",
    "from sklearn.impute import IterativeImputer\n",
    "from sklearn.impute import KNNImputer"
   ]
  },
  {
   "cell_type": "code",
   "execution_count": null,
   "id": "b02ee830",
   "metadata": {
    "id": "boolean-radius"
   },
   "outputs": [],
   "source": [
    "imp = IterativeImputer(max_iter=10, random_state=42)\n",
    "imp.fit(df_temp)\n",
    "df_temp_imputed = pd.DataFrame(imp.transform(df_temp))\n",
    "df_temp_imputed.columns = df_temp.columns"
   ]
  },
  {
   "cell_type": "code",
   "execution_count": null,
   "id": "2697ae99",
   "metadata": {
    "id": "challenging-brave",
    "outputId": "b56baddb-b6bf-40c1-c42e-8441794da347"
   },
   "outputs": [
    {
     "data": {
      "text/html": [
       "<div>\n",
       "<style scoped>\n",
       "    .dataframe tbody tr th:only-of-type {\n",
       "        vertical-align: middle;\n",
       "    }\n",
       "\n",
       "    .dataframe tbody tr th {\n",
       "        vertical-align: top;\n",
       "    }\n",
       "\n",
       "    .dataframe thead th {\n",
       "        text-align: right;\n",
       "    }\n",
       "</style>\n",
       "<table border=\"1\" class=\"dataframe\">\n",
       "  <thead>\n",
       "    <tr style=\"text-align: right;\">\n",
       "      <th></th>\n",
       "      <th>CRIM</th>\n",
       "      <th>ZN</th>\n",
       "      <th>INDUS</th>\n",
       "      <th>CHAS</th>\n",
       "      <th>NOX</th>\n",
       "      <th>RM</th>\n",
       "      <th>AGE</th>\n",
       "      <th>DIS</th>\n",
       "      <th>RAD</th>\n",
       "      <th>TAX</th>\n",
       "      <th>PTRATIO</th>\n",
       "      <th>B</th>\n",
       "      <th>LSTAT</th>\n",
       "    </tr>\n",
       "  </thead>\n",
       "  <tbody>\n",
       "    <tr>\n",
       "      <th>0</th>\n",
       "      <td>0.00632</td>\n",
       "      <td>18.0</td>\n",
       "      <td>2.31</td>\n",
       "      <td>0.0</td>\n",
       "      <td>0.477051</td>\n",
       "      <td>6.575000</td>\n",
       "      <td>65.200000</td>\n",
       "      <td>4.0900</td>\n",
       "      <td>1.000000</td>\n",
       "      <td>212.85173</td>\n",
       "      <td>17.299452</td>\n",
       "      <td>396.90</td>\n",
       "      <td>9.047610</td>\n",
       "    </tr>\n",
       "    <tr>\n",
       "      <th>1</th>\n",
       "      <td>0.02731</td>\n",
       "      <td>0.0</td>\n",
       "      <td>7.07</td>\n",
       "      <td>0.0</td>\n",
       "      <td>0.469000</td>\n",
       "      <td>6.421000</td>\n",
       "      <td>78.900000</td>\n",
       "      <td>4.9671</td>\n",
       "      <td>2.000000</td>\n",
       "      <td>242.00000</td>\n",
       "      <td>17.800000</td>\n",
       "      <td>396.90</td>\n",
       "      <td>9.140000</td>\n",
       "    </tr>\n",
       "    <tr>\n",
       "      <th>2</th>\n",
       "      <td>0.02729</td>\n",
       "      <td>0.0</td>\n",
       "      <td>7.07</td>\n",
       "      <td>0.0</td>\n",
       "      <td>0.484805</td>\n",
       "      <td>6.277456</td>\n",
       "      <td>57.160297</td>\n",
       "      <td>4.9671</td>\n",
       "      <td>2.000000</td>\n",
       "      <td>242.00000</td>\n",
       "      <td>18.179833</td>\n",
       "      <td>392.83</td>\n",
       "      <td>10.405006</td>\n",
       "    </tr>\n",
       "    <tr>\n",
       "      <th>3</th>\n",
       "      <td>0.03237</td>\n",
       "      <td>0.0</td>\n",
       "      <td>2.18</td>\n",
       "      <td>0.0</td>\n",
       "      <td>0.458000</td>\n",
       "      <td>6.998000</td>\n",
       "      <td>45.800000</td>\n",
       "      <td>6.0622</td>\n",
       "      <td>3.000000</td>\n",
       "      <td>222.00000</td>\n",
       "      <td>18.700000</td>\n",
       "      <td>394.63</td>\n",
       "      <td>2.940000</td>\n",
       "    </tr>\n",
       "    <tr>\n",
       "      <th>4</th>\n",
       "      <td>0.06905</td>\n",
       "      <td>0.0</td>\n",
       "      <td>2.18</td>\n",
       "      <td>0.0</td>\n",
       "      <td>0.458000</td>\n",
       "      <td>7.147000</td>\n",
       "      <td>54.200000</td>\n",
       "      <td>6.0622</td>\n",
       "      <td>2.973865</td>\n",
       "      <td>222.00000</td>\n",
       "      <td>18.700000</td>\n",
       "      <td>396.90</td>\n",
       "      <td>5.330000</td>\n",
       "    </tr>\n",
       "  </tbody>\n",
       "</table>\n",
       "</div>"
      ],
      "text/plain": [
       "      CRIM    ZN  INDUS  CHAS       NOX        RM        AGE     DIS  \\\n",
       "0  0.00632  18.0   2.31   0.0  0.477051  6.575000  65.200000  4.0900   \n",
       "1  0.02731   0.0   7.07   0.0  0.469000  6.421000  78.900000  4.9671   \n",
       "2  0.02729   0.0   7.07   0.0  0.484805  6.277456  57.160297  4.9671   \n",
       "3  0.03237   0.0   2.18   0.0  0.458000  6.998000  45.800000  6.0622   \n",
       "4  0.06905   0.0   2.18   0.0  0.458000  7.147000  54.200000  6.0622   \n",
       "\n",
       "        RAD        TAX    PTRATIO       B      LSTAT  \n",
       "0  1.000000  212.85173  17.299452  396.90   9.047610  \n",
       "1  2.000000  242.00000  17.800000  396.90   9.140000  \n",
       "2  2.000000  242.00000  18.179833  392.83  10.405006  \n",
       "3  3.000000  222.00000  18.700000  394.63   2.940000  \n",
       "4  2.973865  222.00000  18.700000  396.90   5.330000  "
      ]
     },
     "execution_count": 100,
     "metadata": {
      "tags": []
     },
     "output_type": "execute_result"
    }
   ],
   "source": [
    "df_temp_imputed.head()"
   ]
  },
  {
   "cell_type": "markdown",
   "id": "99f1e9ae",
   "metadata": {
    "id": "female-vermont"
   },
   "source": [
    "- KNN Nearest"
   ]
  },
  {
   "cell_type": "code",
   "execution_count": null,
   "id": "547fa526",
   "metadata": {
    "id": "governing-brooklyn"
   },
   "outputs": [],
   "source": [
    "imputer = KNNImputer(n_neighbors=5, weights=\"uniform\")\n",
    "df_temp_imputed = pd.DataFrame(imputer.fit_transform(df_temp))\n",
    "df_temp_imputed.columns = df_temp.columns"
   ]
  },
  {
   "cell_type": "code",
   "execution_count": null,
   "id": "cf5d3125",
   "metadata": {
    "id": "billion-episode",
    "outputId": "6e6ae77e-8383-4336-a766-6eafcbd4430d"
   },
   "outputs": [
    {
     "data": {
      "text/html": [
       "<div>\n",
       "<style scoped>\n",
       "    .dataframe tbody tr th:only-of-type {\n",
       "        vertical-align: middle;\n",
       "    }\n",
       "\n",
       "    .dataframe tbody tr th {\n",
       "        vertical-align: top;\n",
       "    }\n",
       "\n",
       "    .dataframe thead th {\n",
       "        text-align: right;\n",
       "    }\n",
       "</style>\n",
       "<table border=\"1\" class=\"dataframe\">\n",
       "  <thead>\n",
       "    <tr style=\"text-align: right;\">\n",
       "      <th></th>\n",
       "      <th>CRIM</th>\n",
       "      <th>ZN</th>\n",
       "      <th>INDUS</th>\n",
       "      <th>CHAS</th>\n",
       "      <th>NOX</th>\n",
       "      <th>RM</th>\n",
       "      <th>AGE</th>\n",
       "      <th>DIS</th>\n",
       "      <th>RAD</th>\n",
       "      <th>TAX</th>\n",
       "      <th>PTRATIO</th>\n",
       "      <th>B</th>\n",
       "      <th>LSTAT</th>\n",
       "    </tr>\n",
       "  </thead>\n",
       "  <tbody>\n",
       "    <tr>\n",
       "      <th>0</th>\n",
       "      <td>0.00632</td>\n",
       "      <td>18.0</td>\n",
       "      <td>2.31</td>\n",
       "      <td>0.0</td>\n",
       "      <td>0.4846</td>\n",
       "      <td>6.575</td>\n",
       "      <td>65.20</td>\n",
       "      <td>4.0900</td>\n",
       "      <td>1.0</td>\n",
       "      <td>285.8</td>\n",
       "      <td>16.78</td>\n",
       "      <td>396.90</td>\n",
       "      <td>9.856</td>\n",
       "    </tr>\n",
       "    <tr>\n",
       "      <th>1</th>\n",
       "      <td>0.02731</td>\n",
       "      <td>0.0</td>\n",
       "      <td>7.07</td>\n",
       "      <td>0.0</td>\n",
       "      <td>0.4690</td>\n",
       "      <td>6.421</td>\n",
       "      <td>78.90</td>\n",
       "      <td>4.9671</td>\n",
       "      <td>2.0</td>\n",
       "      <td>242.0</td>\n",
       "      <td>17.80</td>\n",
       "      <td>396.90</td>\n",
       "      <td>9.140</td>\n",
       "    </tr>\n",
       "    <tr>\n",
       "      <th>2</th>\n",
       "      <td>0.02729</td>\n",
       "      <td>0.0</td>\n",
       "      <td>7.07</td>\n",
       "      <td>0.0</td>\n",
       "      <td>0.5496</td>\n",
       "      <td>6.500</td>\n",
       "      <td>75.54</td>\n",
       "      <td>4.9671</td>\n",
       "      <td>2.0</td>\n",
       "      <td>242.0</td>\n",
       "      <td>19.40</td>\n",
       "      <td>392.83</td>\n",
       "      <td>9.088</td>\n",
       "    </tr>\n",
       "    <tr>\n",
       "      <th>3</th>\n",
       "      <td>0.03237</td>\n",
       "      <td>0.0</td>\n",
       "      <td>2.18</td>\n",
       "      <td>0.0</td>\n",
       "      <td>0.4580</td>\n",
       "      <td>6.998</td>\n",
       "      <td>45.80</td>\n",
       "      <td>6.0622</td>\n",
       "      <td>3.0</td>\n",
       "      <td>222.0</td>\n",
       "      <td>18.70</td>\n",
       "      <td>394.63</td>\n",
       "      <td>2.940</td>\n",
       "    </tr>\n",
       "    <tr>\n",
       "      <th>4</th>\n",
       "      <td>0.06905</td>\n",
       "      <td>0.0</td>\n",
       "      <td>2.18</td>\n",
       "      <td>0.0</td>\n",
       "      <td>0.4580</td>\n",
       "      <td>7.147</td>\n",
       "      <td>54.20</td>\n",
       "      <td>6.0622</td>\n",
       "      <td>4.6</td>\n",
       "      <td>222.0</td>\n",
       "      <td>18.70</td>\n",
       "      <td>396.90</td>\n",
       "      <td>5.330</td>\n",
       "    </tr>\n",
       "  </tbody>\n",
       "</table>\n",
       "</div>"
      ],
      "text/plain": [
       "      CRIM    ZN  INDUS  CHAS     NOX     RM    AGE     DIS  RAD    TAX  \\\n",
       "0  0.00632  18.0   2.31   0.0  0.4846  6.575  65.20  4.0900  1.0  285.8   \n",
       "1  0.02731   0.0   7.07   0.0  0.4690  6.421  78.90  4.9671  2.0  242.0   \n",
       "2  0.02729   0.0   7.07   0.0  0.5496  6.500  75.54  4.9671  2.0  242.0   \n",
       "3  0.03237   0.0   2.18   0.0  0.4580  6.998  45.80  6.0622  3.0  222.0   \n",
       "4  0.06905   0.0   2.18   0.0  0.4580  7.147  54.20  6.0622  4.6  222.0   \n",
       "\n",
       "   PTRATIO       B  LSTAT  \n",
       "0    16.78  396.90  9.856  \n",
       "1    17.80  396.90  9.140  \n",
       "2    19.40  392.83  9.088  \n",
       "3    18.70  394.63  2.940  \n",
       "4    18.70  396.90  5.330  "
      ]
     },
     "execution_count": 103,
     "metadata": {
      "tags": []
     },
     "output_type": "execute_result"
    }
   ],
   "source": [
    "df_temp_imputed.head()"
   ]
  },
  {
   "cell_type": "markdown",
   "id": "0b9e10e6",
   "metadata": {
    "id": "collected-crossing"
   },
   "source": [
    "missing value의 경우 합리적으로 삽입하는 경우가 제일 좋지만, 그렇지 못한 경우에 위와 같이 삽입을 해줄 수 있습니다. \\\n",
    "하지만, 보통의 경우 데이터를 보고 변수간의 관계나 혹은 인문학적인 소양을 통해 삽입해줄 수 있는 경우도 많습니다. \\\n",
    "https://www.kaggle.com/grazder/filling-card-nans 해당 링크가 그러한 예시이며, IEEE라는 kaggle에서 아주 유명한 competiton입니다. \n",
    "    \n"
   ]
  },
  {
   "cell_type": "markdown",
   "id": "3a87b81e",
   "metadata": {
    "id": "satisfactory-place"
   },
   "source": [
    "# 3. Outlier\n"
   ]
  },
  {
   "cell_type": "markdown",
   "id": "be3ceb4f",
   "metadata": {
    "id": "liable-artwork"
   },
   "source": [
    "outlier의 경우는 처리하기가 상당히 까다롭습니다. \\\n",
    "성능적인 측면에서 본다면 train에서 outlier로 판별되었더라도 \\\n",
    "그러한 분포를 지닌 data가 test에도 있다면 결국 그것을 이용하여 예측을 해야합니다. \n",
    "\n",
    "또한, 제거했을 때 더 좋을 수도 있고, 함께 학습을 시켰을 때 더 좋을 수도 있습니다. \\\n",
    "단순히 ZRscore를 통해 outlier를 계산하는 예시지만, \n",
    "\n",
    "https://www.kaggle.com/waitingli/combining-your-model-with-a-model-without-outlier\n",
    "위의 kaggle competiton의 경우 outlier를 디텍션한 이후에 \\\n",
    "outlier를 제거한 모델과, 모두 함께 학습시킨 모델을 combining하는 등 다양한 실험을 하게 됩니다. "
   ]
  },
  {
   "cell_type": "code",
   "execution_count": null,
   "id": "63d4aaa3",
   "metadata": {
    "id": "colored-functionality"
   },
   "outputs": [],
   "source": [
    "X_train, X_test, y_train, y_test = train_test_split(df_scaled, target, test_size=0.33, random_state=42)"
   ]
  },
  {
   "cell_type": "code",
   "execution_count": null,
   "id": "bc751eb7",
   "metadata": {
    "id": "needed-madonna"
   },
   "outputs": [],
   "source": [
    "import scipy.stats as stats\n",
    "\n",
    "out=[]\n",
    "def ZRscore_outlier(Data_input):\n",
    "    df = Data_input.copy()\n",
    "    med = np.median(df)\n",
    "    ma = stats.median_absolute_deviation(df)\n",
    "    for i in df.index:\n",
    "        value = df[i]\n",
    "        z = (0.6745*(value-med))/ (np.median(ma))\n",
    "        if np.abs(z) > 3: \n",
    "            out.append(i)\n",
    "    \n",
    "    return out"
   ]
  },
  {
   "cell_type": "code",
   "execution_count": null,
   "id": "2bcec971",
   "metadata": {
    "id": "increasing-opening"
   },
   "outputs": [],
   "source": [
    "out_last = []\n",
    "\n",
    "for col in X_train.columns:\n",
    "    out = []\n",
    "    out.extend(ZRscore_outlier(X_train[col]))"
   ]
  },
  {
   "cell_type": "code",
   "execution_count": null,
   "id": "f44baac2",
   "metadata": {
    "id": "lightweight-organization",
    "outputId": "3b8bf478-826c-4255-fef1-237f3bfb5993"
   },
   "outputs": [
    {
     "data": {
      "text/plain": [
       "[374, 161, 374, 161]"
      ]
     },
     "execution_count": 127,
     "metadata": {
      "tags": []
     },
     "output_type": "execute_result"
    }
   ],
   "source": [
    "out"
   ]
  },
  {
   "cell_type": "markdown",
   "id": "978794b0",
   "metadata": {
    "id": "monetary-alcohol"
   },
   "source": [
    "# 4. Dimension reduction"
   ]
  },
  {
   "cell_type": "markdown",
   "id": "cfacf079",
   "metadata": {
    "id": "early-backing"
   },
   "source": [
    "- tsne\n",
    "\n",
    "차원축소의 경우는 사실상 EDA과정이라고 할 수 있습니다. \\\n",
    "물론, 다음 https://www.kaggle.com/c/lish-moa/code?competitionId=19988&searchQuery=PCA 과 같이 PCA 등 차원축소를 이용하여 \\\n",
    "기존의 feature가 잡아내지 못하는 부분을 잡아내기 위해 feature로 추가 하기도 합니다.\n",
    "\n",
    "또는 이미지 데이터를 EDA하기 위해, gpu 연산을 이용한 tsne를 사용하여 \\\n",
    "https://www.kaggle.com/c/siim-isic-melanoma-classification/discussion/168028\n",
    "위와 같이 EDA를 하기도 합니다.\n",
    "\n",
    "저희 데이터의 경우 차원을 축소할 만큼, 데이터가 크지 않기 때문에 \\\n",
    "Toy Dataset을 이용하여 train, test의 분포가 유사한지 확인해보는 용도, \\\n",
    "혹은 outlier를 확인해보는 용도로 사용해보도록 하겠습니다.\n",
    "\n"
   ]
  },
  {
   "cell_type": "code",
   "execution_count": null,
   "id": "1f5d987e",
   "metadata": {
    "id": "transparent-biodiversity"
   },
   "outputs": [],
   "source": [
    "X_train, X_test, y_train, y_test = train_test_split(df_scaled, target, test_size=0.2, random_state=21)"
   ]
  },
  {
   "cell_type": "code",
   "execution_count": null,
   "id": "42c7389d",
   "metadata": {
    "id": "challenging-journal",
    "outputId": "f32fead5-28b5-47b8-874d-14be65d86567"
   },
   "outputs": [
    {
     "name": "stdout",
     "output_type": "stream",
     "text": [
      "[t-SNE] Computing 121 nearest neighbors...\n",
      "[t-SNE] Indexed 506 samples in 0.002s...\n",
      "[t-SNE] Computed neighbors for 506 samples in 0.013s...\n",
      "[t-SNE] Computed conditional probabilities for sample 506 / 506\n",
      "[t-SNE] Mean sigma: 1.763142\n",
      "[t-SNE] KL divergence after 250 iterations with early exaggeration: 52.373379\n",
      "[t-SNE] KL divergence after 300 iterations: 0.248336\n"
     ]
    }
   ],
   "source": [
    "from sklearn.manifold import TSNE\n",
    "tsne = TSNE(n_components=2, verbose=1, perplexity=40, n_iter=300, random_state=48)\n",
    "tsne_results = tsne.fit_transform(df_scaled)\n",
    "tdf = pd.DataFrame(tsne_results)"
   ]
  },
  {
   "cell_type": "code",
   "execution_count": null,
   "id": "7dabd693",
   "metadata": {
    "id": "approved-yesterday",
    "outputId": "dc5db95b-64a0-4bf0-863a-86a3d0f60c5f"
   },
   "outputs": [
    {
     "data": {
      "text/plain": [
       "<AxesSubplot:xlabel='0', ylabel='1'>"
      ]
     },
     "execution_count": 117,
     "metadata": {
      "tags": []
     },
     "output_type": "execute_result"
    },
    {
     "data": {
      "image/png": "[encoded data removed]",
      "text/plain": [
       "<Figure size 432x288 with 1 Axes>"
      ]
     },
     "metadata": {
      "needs_background": "light",
      "tags": []
     },
     "output_type": "display_data"
    }
   ],
   "source": [
    "sns.scatterplot(tdf.iloc[X_train.index][0],  tdf.iloc[X_train.index][1],   color='blue')\n",
    "sns.scatterplot(tdf.iloc[X_test.index][0], tdf.iloc[X_test.index][1], color='orange')"
   ]
  }
 ],
 "metadata": {
  "colab": {
   "name": "3강 - boostcamp tabular class daily mission.ipynb",
   "provenance": []
  },
  "kernelspec": {
   "display_name": "Python 3",
   "language": "python",
   "name": "python3"
  },
  "language_info": {
   "codemirror_mode": {
    "name": "ipython",
    "version": 3
   },
   "file_extension": ".py",
   "mimetype": "text/x-python",
   "name": "python",
   "nbconvert_exporter": "python",
   "pygments_lexer": "ipython3",
   "version": "3.7.7"
  }
 },
 "nbformat": 4,
 "nbformat_minor": 5
}
